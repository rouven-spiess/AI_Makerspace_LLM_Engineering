{
  "nbformat": 4,
  "nbformat_minor": 0,
  "metadata": {
    "colab": {
      "provenance": [],
      "collapsed_sections": [
        "eo_QP1ITFfX2"
      ],
      "machine_shape": "hm",
      "gpuType": "A100",
      "include_colab_link": true
    },
    "kernelspec": {
      "name": "python3",
      "display_name": "Python 3"
    },
    "language_info": {
      "name": "python"
    },
    "accelerator": "GPU"
  },
  "cells": [
    {
      "cell_type": "markdown",
      "metadata": {
        "id": "view-in-github",
        "colab_type": "text"
      },
      "source": [
        "<a href=\"https://colab.research.google.com/github/rouven-spiess/AI_Makerspace_LLM_Engineering/blob/main/Copy_of_Shakespeare_Generative_Model_from_Scratch_Assignment_Version.ipynb\" target=\"_parent\"><img src=\"https://colab.research.google.com/assets/colab-badge.svg\" alt=\"Open In Colab\"/></a>"
      ]
    },
    {
      "cell_type": "markdown",
      "source": [
        "# Unsupervised Pre-Training of GPT-Style Model\n",
        "\n",
        "In today's notebook, we'll be working through an example of how to do unsupervised pre-training of a GPT-style model.\n",
        "\n",
        "The base model we'll use is Andrej Karpathy's [nanoGPT](https://github.com/karpathy/nanoGPT).\n",
        "\n",
        "All of the model code can be found in the [`model.py`](https://github.com/karpathy/nanoGPT/blob/master/model.py) file!\n",
        "\n",
        "> NOTE: We will not be leveraging the parallized training strategy in this notebook - you can find all the required code in the provided repository."
      ],
      "metadata": {
        "id": "UWiGVj6njoDn"
      }
    },
    {
      "cell_type": "markdown",
      "source": [
        "## Data Selection\n",
        "\n",
        "For the notebook today, we'll be using a toy dataset called `tinyshakespeare`. Feel free to use your own corpus here, just make sure it's contained within a single `.txt` file.\n",
        "\n",
        "You could extend this example to use the [OpenWebText](https://skylion007.github.io/OpenWebTextCorpus/) dataset, which was used to pre-train GPT-2.\n",
        "\n",
        "> NOTE: Training LLMs can take a very long time - in order to get results similar to the [GPT-2 paper](https://d4mucfpksywv.cloudfront.net/better-language-models/language_models_are_unsupervised_multitask_learners.pdf) you will need 8xA100s and train for ~4-5 days using a pararellized strategy (DDP) on the OpenWebText Corpus.\n",
        "\n",
        "Let's start by grabbing our source repository for the day!"
      ],
      "metadata": {
        "id": "eHi04aEnkKEZ"
      }
    },
    {
      "cell_type": "code",
      "execution_count": 1,
      "metadata": {
        "colab": {
          "base_uri": "https://localhost:8080/"
        },
        "id": "lMRsEQZy6tgc",
        "outputId": "11fbc2e0-753b-4b76-fc51-dca7549c8bf6"
      },
      "outputs": [
        {
          "output_type": "stream",
          "name": "stdout",
          "text": [
            "Cloning into 'nanoGPT'...\n",
            "remote: Enumerating objects: 649, done.\u001b[K\n",
            "remote: Total 649 (delta 0), reused 0 (delta 0), pack-reused 649\u001b[K\n",
            "Receiving objects: 100% (649/649), 936.45 KiB | 2.94 MiB/s, done.\n",
            "Resolving deltas: 100% (371/371), done.\n"
          ]
        }
      ],
      "source": [
        "!git clone https://github.com/karpathy/nanoGPT.git"
      ]
    },
    {
      "cell_type": "markdown",
      "source": [
        "Next, we'll need to grab some dependencies.\n",
        "\n",
        "`cohere` and `openai` are recent dependencies of `tiktoken`, but we will not be leveraging them today."
      ],
      "metadata": {
        "id": "6l4CqoEDl7ks"
      }
    },
    {
      "cell_type": "code",
      "source": [
        "!pip install tiktoken requests cohere openai -qU"
      ],
      "metadata": {
        "colab": {
          "base_uri": "https://localhost:8080/"
        },
        "id": "d_gepPv1Qdj_",
        "outputId": "dbdd59dc-7504-42a5-9757-b2d63f21774d"
      },
      "execution_count": 2,
      "outputs": [
        {
          "output_type": "stream",
          "name": "stdout",
          "text": [
            "\u001b[2K     \u001b[90m━━━━━━━━━━━━━━━━━━━━━━━━━━━━━━━━━━━━━━━━\u001b[0m \u001b[32m2.0/2.0 MB\u001b[0m \u001b[31m15.6 MB/s\u001b[0m eta \u001b[36m0:00:00\u001b[0m\n",
            "\u001b[2K     \u001b[90m━━━━━━━━━━━━━━━━━━━━━━━━━━━━━━━━━━━━━━━━\u001b[0m \u001b[32m51.9/51.9 kB\u001b[0m \u001b[31m7.0 MB/s\u001b[0m eta \u001b[36m0:00:00\u001b[0m\n",
            "\u001b[2K     \u001b[90m━━━━━━━━━━━━━━━━━━━━━━━━━━━━━━━━━━━━━━━━\u001b[0m \u001b[32m212.1/212.1 kB\u001b[0m \u001b[31m22.1 MB/s\u001b[0m eta \u001b[36m0:00:00\u001b[0m\n",
            "\u001b[2K     \u001b[90m━━━━━━━━━━━━━━━━━━━━━━━━━━━━━━━━━━━━━━━━\u001b[0m \u001b[32m3.1/3.1 MB\u001b[0m \u001b[31m28.4 MB/s\u001b[0m eta \u001b[36m0:00:00\u001b[0m\n",
            "\u001b[2K     \u001b[90m━━━━━━━━━━━━━━━━━━━━━━━━━━━━━━━━━━━━━━━━\u001b[0m \u001b[32m75.9/75.9 kB\u001b[0m \u001b[31m11.6 MB/s\u001b[0m eta \u001b[36m0:00:00\u001b[0m\n",
            "\u001b[2K     \u001b[90m━━━━━━━━━━━━━━━━━━━━━━━━━━━━━━━━━━━━━━━━\u001b[0m \u001b[32m76.9/76.9 kB\u001b[0m \u001b[31m11.9 MB/s\u001b[0m eta \u001b[36m0:00:00\u001b[0m\n",
            "\u001b[2K     \u001b[90m━━━━━━━━━━━━━━━━━━━━━━━━━━━━━━━━━━━━━━━━\u001b[0m \u001b[32m58.3/58.3 kB\u001b[0m \u001b[31m9.4 MB/s\u001b[0m eta \u001b[36m0:00:00\u001b[0m\n",
            "\u001b[?25h\u001b[31mERROR: pip's dependency resolver does not currently take into account all the packages that are installed. This behaviour is the source of the following dependency conflicts.\n",
            "tensorflow-probability 0.22.0 requires typing-extensions<4.6.0, but you have typing-extensions 4.9.0 which is incompatible.\u001b[0m\u001b[31m\n",
            "\u001b[0m"
          ]
        }
      ]
    },
    {
      "cell_type": "markdown",
      "source": [
        "First things first - let's download our dataset!\n",
        "\n",
        "We'll leverage the `requests` library to do this - and then we will split our resultant data into a `train` and `val` set."
      ],
      "metadata": {
        "id": "70hSjXmZmCt3"
      }
    },
    {
      "cell_type": "code",
      "source": [
        "import os\n",
        "import requests\n",
        "import tiktoken\n",
        "import numpy as np\n",
        "\n",
        "current_path = \"/data/shakespeare\"\n",
        "data_url = 'https://raw.githubusercontent.com/karpathy/char-rnn/master/data/tinyshakespeare/input.txt'\n",
        "\n",
        "if not os.path.exists(current_path):\n",
        "    os.makedirs(current_path)\n",
        "\n",
        "# download the tiny shakespeare dataset\n",
        "input_file_path = os.path.join(os.path.dirname(current_path), 'input.txt')\n",
        "if not os.path.exists(input_file_path):\n",
        "\n",
        "    with open(input_file_path, 'w') as f:\n",
        "        f.write(requests.get(data_url).text)\n",
        "\n",
        "with open(input_file_path, 'r') as f:\n",
        "    data = f.read()\n",
        "\n",
        "n = len(data)\n",
        "train_data = data[:int(n*0.9)]\n",
        "val_data = data[int(n*0.9):]"
      ],
      "metadata": {
        "id": "T7qRWArUNiZ5"
      },
      "execution_count": 3,
      "outputs": []
    },
    {
      "cell_type": "markdown",
      "source": [
        "Now let's get our `tokenizers` dependency so we can train a tokenizer on our data."
      ],
      "metadata": {
        "id": "wU9BG2CymU-a"
      }
    },
    {
      "cell_type": "code",
      "source": [
        "!pip install tokenizers -qU"
      ],
      "metadata": {
        "id": "gFnrwKpQPsYh"
      },
      "execution_count": 4,
      "outputs": []
    },
    {
      "cell_type": "markdown",
      "source": [
        "We will be training a \"byte-pair-encoding\" or \"BPE\" tokenizer. If you'd like to read more, you can find it [here](https://en.wikipedia.org/wiki/Byte_pair_encoding).\n",
        "\n",
        "Let's work through an example of what Byte-Pair Encoding (BPE) is doing, exactly, from this wonderful example provided by [Hugging Face](https://huggingface.co/docs/transformers/main/tokenizer_summary#byte-pair-encoding-bpe).\n",
        "\n",
        "\n",
        "\n"
      ],
      "metadata": {
        "id": "rmWXE5ctma9Z"
      }
    },
    {
      "cell_type": "markdown",
      "source": [
        "### What is BPE?\n",
        "\n",
        "First, we need to do a step called \"pre-tokenization\", which is - as it sounds - a tokenization step that occurs before we tokenize.\n",
        "\n",
        "The essential idea of BPE is that we need to understand common words and \"byte-pairs\" in them. So, in order to find \"common words\" we first need to find...words!\n",
        "\n",
        "Let's take the following text and break it apart into its word components.\n",
        "\n",
        "\n",
        "```\n",
        "After pre-tokenization, a set of unique words has been created and the frequency with which each word occurred in the training data has been determined. Next, BPE creates a base vocabulary consisting of all symbols that occur in the set of unique words and learns merge rules to form a new symbol from two symbols of the base vocabulary. It does so until the vocabulary has attained the desired vocabulary size. Note that the desired vocabulary size is a hyperparameter to define before training the tokenizer.\n",
        "```\n",
        "\n",
        "A naive way to do this would just be by splitting on spaces...and that is indeed what technique was used in GPT-2."
      ],
      "metadata": {
        "id": "GLecDiHbogvX"
      }
    },
    {
      "cell_type": "code",
      "source": [
        "input_text = \"\"\"\n",
        "After pre-tokenization, a set of unique words has been created and the frequency with which each word occurred in the training data has been determined. Next, BPE creates a base vocabulary consisting of all symbols that occur in the set of unique words and learns merge rules to form a new symbol from two symbols of the base vocabulary. It does so until the vocabulary has attained the desired vocabulary size. Note that the desired vocabulary size is a hyperparameter to define before training the tokenizer.\n",
        "\"\"\"\n",
        "\n",
        "naive_word_list = input_text.split()"
      ],
      "metadata": {
        "id": "m34NDAGCpiz6"
      },
      "execution_count": 5,
      "outputs": []
    },
    {
      "cell_type": "markdown",
      "source": [
        "Now we can count our words and get their frequency."
      ],
      "metadata": {
        "id": "hR8k-2bopqjy"
      }
    },
    {
      "cell_type": "code",
      "source": [
        "from collections import defaultdict\n",
        "\n",
        "vocab_and_frequencies = defaultdict(int)\n",
        "\n",
        "for word in naive_word_list:\n",
        "  vocab_and_frequencies[\" \".join(list(word))] += 1\n",
        "\n",
        "sorted(vocab_and_frequencies.items(), key = lambda x: x[1], reverse=True)[:5]"
      ],
      "metadata": {
        "colab": {
          "base_uri": "https://localhost:8080/"
        },
        "id": "B_201bSQpvqD",
        "outputId": "ba9e6b1a-bef4-4323-ec8c-e5ffbec60637"
      },
      "execution_count": 6,
      "outputs": [
        {
          "output_type": "execute_result",
          "data": {
            "text/plain": [
              "[('t h e', 8), ('a', 4), ('o f', 4), ('v o c a b u l a r y', 4), ('h a s', 3)]"
            ]
          },
          "metadata": {},
          "execution_count": 6
        }
      ]
    },
    {
      "cell_type": "markdown",
      "source": [
        "Let's find our \"base vocabulary\", which is going to be each symbol present in our original dataset."
      ],
      "metadata": {
        "id": "NckufSxxp-w5"
      }
    },
    {
      "cell_type": "code",
      "source": [
        "from typing import Dict, Tuple, List, Set\n",
        "\n",
        "def find_vocabulary_size(current_vocab: Dict[str, int]) -> int:\n",
        "  vocab = set()\n",
        "\n",
        "  for word in current_vocab.keys():\n",
        "    for subword in word.split():\n",
        "      vocab.add(subword)\n",
        "\n",
        "  return len(vocab)"
      ],
      "metadata": {
        "id": "BNcjzjDvvKjp"
      },
      "execution_count": 7,
      "outputs": []
    },
    {
      "cell_type": "code",
      "source": [
        "find_vocabulary_size(vocab_and_frequencies)"
      ],
      "metadata": {
        "colab": {
          "base_uri": "https://localhost:8080/"
        },
        "id": "pf3kCf-WvdBL",
        "outputId": "dc25ddf2-fb76-460d-8496-81ea7c038963"
      },
      "execution_count": 8,
      "outputs": [
        {
          "output_type": "execute_result",
          "data": {
            "text/plain": [
              "34"
            ]
          },
          "metadata": {},
          "execution_count": 8
        }
      ]
    },
    {
      "cell_type": "markdown",
      "source": [
        "As we can see, there are 36 symbols in our base vocabulary. Let's convert our data into a form where we can capture each symbol separately."
      ],
      "metadata": {
        "id": "VoMq7GhKqf7p"
      }
    },
    {
      "cell_type": "markdown",
      "source": [
        "Now we can start constructing our pairs. We will look at all the pairs of symbols as they appear and take into consideration their frequency in our corpus."
      ],
      "metadata": {
        "id": "OGxrHYmftDTr"
      }
    },
    {
      "cell_type": "code",
      "source": [
        "def find_pairs_and_frequencies(current_vocab: Dict[str, int]) -> Dict[str, int]:\n",
        "  pairs = {}\n",
        "\n",
        "  for word, frequency in current_vocab.items():\n",
        "    symbols = word.split()\n",
        "\n",
        "    for i in range(len(symbols) - 1):\n",
        "      pair = (symbols[i], symbols[i + 1])\n",
        "      current_frequency = pairs.get(pair, 0)\n",
        "      pairs[pair] = current_frequency + frequency\n",
        "\n",
        "  return pairs"
      ],
      "metadata": {
        "id": "sTwvfTAErQN7"
      },
      "execution_count": 9,
      "outputs": []
    },
    {
      "cell_type": "code",
      "source": [
        "pairs_and_frequencies = find_pairs_and_frequencies(vocab_and_frequencies)"
      ],
      "metadata": {
        "id": "FudOaKmYv9-y"
      },
      "execution_count": 10,
      "outputs": []
    },
    {
      "cell_type": "code",
      "source": [
        "sorted(pairs_and_frequencies.items(), key = lambda x: x[1], reverse=True)[:5]"
      ],
      "metadata": {
        "colab": {
          "base_uri": "https://localhost:8080/"
        },
        "id": "oGIJfkk7wFYw",
        "outputId": "d9a23b54-5d14-4933-e826-f325b2ec6a8b"
      },
      "execution_count": 11,
      "outputs": [
        {
          "output_type": "execute_result",
          "data": {
            "text/plain": [
              "[(('t', 'h'), 11),\n",
              " (('i', 'n'), 10),\n",
              " (('r', 'e'), 8),\n",
              " (('h', 'e'), 8),\n",
              " (('a', 't'), 7)]"
            ]
          },
          "metadata": {},
          "execution_count": 11
        }
      ]
    },
    {
      "cell_type": "markdown",
      "source": [
        "Now that we have the frequent pairs - we can merge those pairs into a single token.\n",
        "\n",
        "Let's see how this process looks in code."
      ],
      "metadata": {
        "id": "OqORqdzwsZ6s"
      }
    },
    {
      "cell_type": "code",
      "source": [
        "import re\n",
        "\n",
        "def merge_vocab(most_common_pair: Tuple[str], current_vocab: Dict[str, int]) -> Dict[str, int]:\n",
        "  vocab_out = {}\n",
        "\n",
        "  pattern = re.escape(' '.join(most_common_pair))\n",
        "  replacement = ''.join(most_common_pair)\n",
        "\n",
        "  for word_in in current_vocab:\n",
        "      word_out = re.sub(pattern, replacement, word_in)\n",
        "      vocab_out[word_out] = current_vocab[word_in]\n",
        "\n",
        "  return vocab_out"
      ],
      "metadata": {
        "id": "L7ohHm2kshoY"
      },
      "execution_count": 12,
      "outputs": []
    },
    {
      "cell_type": "code",
      "source": [
        "new_vocab_and_frequencies = merge_vocab(\n",
        "    sorted(pairs_and_frequencies.items(), key = lambda x: x[1], reverse=True)[0][0],\n",
        "    vocab_and_frequencies\n",
        ")"
      ],
      "metadata": {
        "id": "Ab760KKuwzZ6"
      },
      "execution_count": 13,
      "outputs": []
    },
    {
      "cell_type": "code",
      "source": [
        "sorted(new_vocab_and_frequencies.items(), key = lambda x: x[1], reverse=True)[:5]"
      ],
      "metadata": {
        "colab": {
          "base_uri": "https://localhost:8080/"
        },
        "id": "L0XtvLbpxbSx",
        "outputId": "849e650c-be05-4773-a2e2-18cb8778d730"
      },
      "execution_count": 14,
      "outputs": [
        {
          "output_type": "execute_result",
          "data": {
            "text/plain": [
              "[('th e', 8), ('a', 4), ('o f', 4), ('v o c a b u l a r y', 4), ('h a s', 3)]"
            ]
          },
          "metadata": {},
          "execution_count": 14
        }
      ]
    },
    {
      "cell_type": "markdown",
      "source": [
        "After one merge, we can see that `t h` has been converted to `th`!\n",
        "\n",
        "Let's see how that impacted our vocabulary."
      ],
      "metadata": {
        "id": "9DPkBzj2u-me"
      }
    },
    {
      "cell_type": "code",
      "source": [
        "find_vocabulary_size(new_vocab_and_frequencies)"
      ],
      "metadata": {
        "colab": {
          "base_uri": "https://localhost:8080/"
        },
        "id": "bO_xegCtxjQf",
        "outputId": "6cba6649-c8fc-40c6-ffb5-b060ca38c923"
      },
      "execution_count": 15,
      "outputs": [
        {
          "output_type": "execute_result",
          "data": {
            "text/plain": [
              "35"
            ]
          },
          "metadata": {},
          "execution_count": 15
        }
      ]
    },
    {
      "cell_type": "markdown",
      "source": [
        "We can see that our vocabulary has increased by 1 as we've added the `th` symbol to it!\n",
        "\n",
        "In essence, BPE will continue to do this process until your desired vocabulary size (a hyper-parameter) is met!"
      ],
      "metadata": {
        "id": "o3M13D60xzZi"
      }
    },
    {
      "cell_type": "markdown",
      "source": [
        "## Training Our Tokenizer\n",
        "\n",
        "Now that we have some background on how BBPE works, lets move on to training our tokenizer for our model!\n",
        "\n",
        "Let's walk through the steps we'll take:\n",
        "\n",
        "1. Initialize our `Tokenizer` with a `BPE` model. Be sure to include the `unk_token`.\n",
        "\n",
        "  - [`Tokenizer`](https://huggingface.co/docs/tokenizers/api/tokenizer#tokenizer)\n",
        "  - [`Models`](https://huggingface.co/docs/tokenizers/api/models#models)\n",
        "\n",
        "2. We'll include a normalizer, applied at the sequence level, and we'll use `NFD()` to do so. More reading on Unicode Normalization Forms [here](https://unicode.org/reports/tr15/#Normalization_Forms_Table).\n",
        "\n",
        "  - [`NFD()`](https://huggingface.co/docs/tokenizers/api/normalizers#tokenizers.normalizers.NFD)\n",
        "\n",
        "3. We'll also add our `ByteLevel()` pre-tokenizer, and our `ByteLevelDecoder()` decoder.\n",
        "\n",
        "  - [`ByteLevel()`](https://huggingface.co/docs/tokenizers/api/pre-tokenizers#tokenizers.pre_tokenizers.ByteLevel)\n",
        "  - [`ByteLevelDecoder()`](https://huggingface.co/docs/tokenizers/api/decoders#tokenizers.decoders.ByteLevel)"
      ],
      "metadata": {
        "id": "BePYCbHly02H"
      }
    },
    {
      "cell_type": "code",
      "source": [
        "from tokenizers import Tokenizer\n",
        "from tokenizers.models import BPE\n",
        "from tokenizers.decoders import ByteLevel as ByteLevelDecoder\n",
        "from tokenizers.normalizers import NFD, Sequence\n",
        "from tokenizers.trainers import BpeTrainer\n",
        "from tokenizers.pre_tokenizers import ByteLevel\n",
        "\n",
        "tokenizer = Tokenizer(BPE(unk_token=\"[UNK]\"))\n",
        "tokenizer.normalizer = Sequence([NFD()])\n",
        "tokenizer.pre_tokenizer = ByteLevel()\n",
        "tokenizer.decoder = ByteLevelDecoder()"
      ],
      "metadata": {
        "id": "OrztE09OPosB"
      },
      "execution_count": 16,
      "outputs": []
    },
    {
      "cell_type": "markdown",
      "source": [
        "We'll want to add some special tokens to our tokenizer to ensure in has access to common token patterns.\n",
        "\n",
        "Let's use the following:\n",
        "\n",
        "- `\"<s>\"`    : bos_token - beginning of sequence token\n",
        "- `\"</s>\"`   : eos_token - end of sequence token\n",
        "- `\"<pad>\"`  : padding_token - token used to pad sequences\n",
        "- `\"<unk>\"`  : unk_token - token used to represent unknown tokens.\n",
        "- `\"<mask>\"` : mask_token - token used to mask parts of our sequence\n",
        "\n",
        "We're also going to set a target vocabulary of 50,000 tokens."
      ],
      "metadata": {
        "id": "dDqkNNdM1KsD"
      }
    },
    {
      "cell_type": "code",
      "source": [
        "trainer = BpeTrainer(\n",
        "    vocab_size=50000,\n",
        "    show_progress=True,\n",
        "    special_tokens=[\n",
        "      \"<s>\",\n",
        "      \"<pad>\",\n",
        "      \"</s>\",\n",
        "      \"<unk>\",\n",
        "      \"<mask>\"\n",
        "    ]\n",
        ")"
      ],
      "metadata": {
        "id": "x9iQVhN3P3RN"
      },
      "execution_count": 17,
      "outputs": []
    },
    {
      "cell_type": "markdown",
      "source": [
        "Nothing left to do but point it at our data-source and let it train!\n",
        "\n",
        "We'll use the `.train()` method to accomplish this task.\n",
        "\n",
        "> NOTE: Pay attention to the desired inputs of the `.train()` method.\n",
        "\n",
        "- [`Tokenizer.train()`](https://huggingface.co/docs/tokenizers/api/tokenizer#tokenizers.Tokenizer.train)"
      ],
      "metadata": {
        "id": "yQ8X9vZe2Fyw"
      }
    },
    {
      "cell_type": "code",
      "source": [
        "tokenizer.train(files=[input_file_path], trainer=trainer)"
      ],
      "metadata": {
        "id": "LinLHotSP7gv"
      },
      "execution_count": 18,
      "outputs": []
    },
    {
      "cell_type": "markdown",
      "source": [
        "Now we can save our tokenizer - and then load it as a `GPT2Tokenizer` through the Hugging Face Library!"
      ],
      "metadata": {
        "id": "V2JNYiqB2qKV"
      }
    },
    {
      "cell_type": "code",
      "source": [
        "save_path = '/content/tokenizer'\n",
        "if not os.path.exists(save_path):\n",
        "    os.makedirs(save_path)\n",
        "tokenizer.model.save(save_path)"
      ],
      "metadata": {
        "colab": {
          "base_uri": "https://localhost:8080/"
        },
        "id": "Jk6QjDGHQy2K",
        "outputId": "7424b617-7577-4f0c-a011-35a57e91caa4"
      },
      "execution_count": 19,
      "outputs": [
        {
          "output_type": "execute_result",
          "data": {
            "text/plain": [
              "['/content/tokenizer/vocab.json', '/content/tokenizer/merges.txt']"
            ]
          },
          "metadata": {},
          "execution_count": 19
        }
      ]
    },
    {
      "cell_type": "code",
      "source": [
        "!pip install transformers -qU"
      ],
      "metadata": {
        "colab": {
          "base_uri": "https://localhost:8080/"
        },
        "id": "cOOlbggdRFrN",
        "outputId": "e8ce7d58-b275-4883-9935-5d3dc9618527"
      },
      "execution_count": 20,
      "outputs": [
        {
          "output_type": "stream",
          "name": "stdout",
          "text": [
            "\u001b[2K     \u001b[90m━━━━━━━━━━━━━━━━━━━━━━━━━━━━━━━━━━━━━━━━\u001b[0m \u001b[32m8.2/8.2 MB\u001b[0m \u001b[31m15.2 MB/s\u001b[0m eta \u001b[36m0:00:00\u001b[0m\n",
            "\u001b[?25h"
          ]
        }
      ]
    },
    {
      "cell_type": "code",
      "source": [
        "from transformers import GPT2Tokenizer\n",
        "\n",
        "tokenizer = GPT2Tokenizer.from_pretrained(save_path, unk_token=\"[UNK]\")"
      ],
      "metadata": {
        "id": "us1vofdhQ45C"
      },
      "execution_count": 21,
      "outputs": []
    },
    {
      "cell_type": "markdown",
      "source": [
        "Let's see how it tokenizes our inputs!"
      ],
      "metadata": {
        "id": "0-Bnq7lV2xWo"
      }
    },
    {
      "cell_type": "code",
      "source": [
        "input_sentence = \"Hark, my name be Romeo! I am but a beautiful summer's day!\""
      ],
      "metadata": {
        "id": "dnYnFa3fTRLf"
      },
      "execution_count": 22,
      "outputs": []
    },
    {
      "cell_type": "code",
      "source": [
        "tokenized_sentence = tokenizer.tokenize(input_sentence)\n",
        "tokenized_sentence"
      ],
      "metadata": {
        "colab": {
          "base_uri": "https://localhost:8080/"
        },
        "id": "PSHY5VufRbBj",
        "outputId": "f48f19e0-d0d2-49d6-ce82-fc8d24578c10"
      },
      "execution_count": 23,
      "outputs": [
        {
          "output_type": "execute_result",
          "data": {
            "text/plain": [
              "['Hark',\n",
              " ',',\n",
              " 'Ġmy',\n",
              " 'Ġname',\n",
              " 'Ġbe',\n",
              " 'ĠRomeo',\n",
              " '!',\n",
              " 'ĠI',\n",
              " 'Ġam',\n",
              " 'Ġbut',\n",
              " 'Ġa',\n",
              " 'Ġbeautiful',\n",
              " 'Ġsummer',\n",
              " \"'s\",\n",
              " 'Ġday',\n",
              " '!']"
            ]
          },
          "metadata": {},
          "execution_count": 23
        }
      ]
    },
    {
      "cell_type": "code",
      "source": [
        "encoded_tokens = tokenizer.convert_tokens_to_ids(tokenized_sentence)\n",
        "encoded_tokens"
      ],
      "metadata": {
        "colab": {
          "base_uri": "https://localhost:8080/"
        },
        "id": "eZrWzQQlTU41",
        "outputId": "70b0f21e-441a-4d1f-f0da-4e714dba1c12"
      },
      "execution_count": 24,
      "outputs": [
        {
          "output_type": "execute_result",
          "data": {
            "text/plain": [
              "[12077, 9, 124, 637, 121, 826, 5, 87, 295, 219, 72, 9113, 2999, 141, 511, 5]"
            ]
          },
          "metadata": {},
          "execution_count": 24
        }
      ]
    },
    {
      "cell_type": "code",
      "source": [
        "decoded_tokens = tokenizer.decode(encoded_tokens, clean_up_tokenization_spaces=False)\n",
        "decoded_tokens"
      ],
      "metadata": {
        "colab": {
          "base_uri": "https://localhost:8080/",
          "height": 35
        },
        "id": "oS6lE-NLRnzk",
        "outputId": "394a5563-18dd-4bec-b12a-f64a518726d4"
      },
      "execution_count": 25,
      "outputs": [
        {
          "output_type": "execute_result",
          "data": {
            "text/plain": [
              "\"Hark, my name be Romeo! I am but a beautiful summer's day!\""
            ],
            "application/vnd.google.colaboratory.intrinsic+json": {
              "type": "string"
            }
          },
          "metadata": {},
          "execution_count": 25
        }
      ]
    },
    {
      "cell_type": "markdown",
      "source": [
        "## Tokenizing Dataset\n",
        "\n",
        "Now that we have trained our tokenizer - let's create a dataset we can leverage with the `nanoGPT` library.\n",
        "\n",
        "We'll simply encode our training and validation data - and then save them in binary files for later!\n",
        "\n",
        "> NOTE: Pay attention to the format you want your dataset in. We want ids, which means we want to use the [`.encode()`](https://huggingface.co/docs/tokenizers/api/tokenizer#tokenizers.Tokenizer.encode) method of our tokenizer."
      ],
      "metadata": {
        "id": "ji3sF-rA21YH"
      }
    },
    {
      "cell_type": "code",
      "source": [
        "train_ids = tokenizer.encode(train_data)\n",
        "val_ids = tokenizer.encode(val_data)\n",
        "print(f\"train has {len(train_ids):,} tokens\")\n",
        "print(f\"val has {len(val_ids):,} tokens\")"
      ],
      "metadata": {
        "colab": {
          "base_uri": "https://localhost:8080/"
        },
        "id": "calHML6JPnCU",
        "outputId": "9b87f100-90ab-45a3-f028-f6eab3e6fde5"
      },
      "execution_count": 26,
      "outputs": [
        {
          "output_type": "stream",
          "name": "stdout",
          "text": [
            "train has 291,284 tokens\n",
            "val has 34,223 tokens\n"
          ]
        }
      ]
    },
    {
      "cell_type": "code",
      "source": [
        "# export to bin files\n",
        "data_path = \"/data/shakespeare/\"\n",
        "\n",
        "train_ids = np.array(train_ids, dtype=np.uint16)\n",
        "val_ids = np.array(val_ids, dtype=np.uint16)\n",
        "train_ids.tofile(os.path.join(os.path.dirname(data_path), 'train.bin'))\n",
        "val_ids.tofile(os.path.join(os.path.dirname(data_path), 'val.bin'))"
      ],
      "metadata": {
        "id": "nKJ1KqiiPkRh"
      },
      "execution_count": 27,
      "outputs": []
    },
    {
      "cell_type": "markdown",
      "source": [
        "Let's look at our first 100 training tokens to see what format they are in!"
      ],
      "metadata": {
        "id": "DFbbvIi7xsgr"
      }
    },
    {
      "cell_type": "code",
      "source": [
        "train_ids[:100]"
      ],
      "metadata": {
        "colab": {
          "base_uri": "https://localhost:8080/"
        },
        "id": "m9z7ia8AxqEn",
        "outputId": "35bd8f4a-5d5c-47c5-9e29-26e4f6d638a3"
      },
      "execution_count": 28,
      "outputs": [
        {
          "output_type": "execute_result",
          "data": {
            "text/plain": [
              "array([  21,  388,  876,   13,   68, 6804,  373,  153, 2501,  622, 2092,\n",
              "          9,  496,  136,  433,   11,   68,   68,   16,   89,   13,   68,\n",
              "         34, 7882,    9,  433,   11,   68,   68,   21,  388,  876,   13,\n",
              "         68,   40,   73,  252,  227, 3778, 1304,  103,  781,  351,  103,\n",
              "       7504,   15,   68,   68,   16,   89,   13,   68,   33,   97, 5790,\n",
              "         11, 3778,   11,   68,   68,   21,  388,  876,   13,   68,   21,\n",
              "        388,    9,  104,  330, 3317, 1177,  145, 3563, 1766,  103,   80,\n",
              "       1006,   11,   68,   68,   16,   89,   13,   68, 7797,  330,  486,\n",
              "          9,  153,  330,  486,   11,   68,   68,   21,  388,  876,   13,\n",
              "         68], dtype=uint16)"
            ]
          },
          "metadata": {},
          "execution_count": 28
        }
      ]
    },
    {
      "cell_type": "markdown",
      "source": [
        "###🏗️Activity:\n",
        "\n",
        "Write Python code that will return the first 100 tokens as text.\n",
        "\n",
        "> HINT: An example of this code was used above!"
      ],
      "metadata": {
        "id": "aDbAZt4Lx12n"
      }
    },
    {
      "cell_type": "code",
      "source": [
        "### YOUR CODE HERE\n",
        "\n",
        "first_100_decoded_tokens = tokenizer.decode(train_ids[:100])\n",
        "print(first_100_decoded_tokens)"
      ],
      "metadata": {
        "id": "za9OzSJDx-dQ",
        "colab": {
          "base_uri": "https://localhost:8080/"
        },
        "outputId": "d55a732e-faf8-4fb5-9650-b2fef305875d"
      },
      "execution_count": 33,
      "outputs": [
        {
          "output_type": "stream",
          "name": "stdout",
          "text": [
            "First Citizen:\n",
            "Before we proceed any further, hear me speak.\n",
            "\n",
            "All:\n",
            "Speak, speak.\n",
            "\n",
            "First Citizen:\n",
            "You are all resolved rather to die than to famish?\n",
            "\n",
            "All:\n",
            "Resolved. resolved.\n",
            "\n",
            "First Citizen:\n",
            "First, you know Caius Marcius is chief enemy to the people.\n",
            "\n",
            "All:\n",
            "We know't, we know't.\n",
            "\n",
            "First Citizen:\n",
            "\n"
          ]
        }
      ]
    },
    {
      "cell_type": "markdown",
      "source": [
        "## Training The Model\n",
        "\n",
        "Now that we have our tokenized dataset, let's get to training our model!\n",
        "\n",
        "We have a lot of set-up to do before we click \"`.train()`\", so let's jump right into it!\n",
        "\n",
        "First, let's literally jump into the `nanoGPT` repository we cloned earlier."
      ],
      "metadata": {
        "id": "c0I3VrRC3XIO"
      }
    },
    {
      "cell_type": "code",
      "source": [
        "%cd nanoGPT"
      ],
      "metadata": {
        "colab": {
          "base_uri": "https://localhost:8080/"
        },
        "id": "NUU2jaalUdqm",
        "outputId": "08c4820f-f96f-4826-a679-da2d2479a49a"
      },
      "execution_count": 34,
      "outputs": [
        {
          "output_type": "stream",
          "name": "stdout",
          "text": [
            "/content/nanoGPT\n"
          ]
        }
      ]
    },
    {
      "cell_type": "markdown",
      "source": [
        "We'll do some critical imports."
      ],
      "metadata": {
        "id": "13p1e8sa3k0V"
      }
    },
    {
      "cell_type": "code",
      "source": [
        "import os\n",
        "import time\n",
        "import math\n",
        "import pickle\n",
        "from contextlib import nullcontext\n",
        "\n",
        "import numpy as np\n",
        "import torch\n",
        "\n",
        "# from the local repo\n",
        "from model import GPTConfig, GPT"
      ],
      "metadata": {
        "id": "weNR37BwUYNg"
      },
      "execution_count": 35,
      "outputs": []
    },
    {
      "cell_type": "markdown",
      "source": [
        "### Hyper-Parameters\n",
        "\n",
        "We have a laundry list of hyper-parameters to set up - let's walk through them and what they mean."
      ],
      "metadata": {
        "id": "kY_vWZG-3uM-"
      }
    },
    {
      "cell_type": "markdown",
      "source": [
        "#### I/O\n",
        "\n",
        "- `out_dir` - simple enough, this is the output directory where our checkpoints are saved"
      ],
      "metadata": {
        "id": "OykCjVQK5EX-"
      }
    },
    {
      "cell_type": "code",
      "source": [
        "out_dir = 'out'"
      ],
      "metadata": {
        "id": "viM3qlWt5PVS"
      },
      "execution_count": 36,
      "outputs": []
    },
    {
      "cell_type": "markdown",
      "source": [
        "#### Initialization\n",
        "\n",
        "Since we're training from scratch, we'll use `init_from = 'scratch'`."
      ],
      "metadata": {
        "id": "A5iwwrNL5H4C"
      }
    },
    {
      "cell_type": "code",
      "source": [
        "init_from = 'scratch'"
      ],
      "metadata": {
        "id": "OK1z2m3C312T"
      },
      "execution_count": 37,
      "outputs": []
    },
    {
      "cell_type": "markdown",
      "source": [
        "#### Eval and Logging\n",
        "\n",
        "- `eval_interval` - this is the number of steps between evaluation stages, we'll want to see this ~`250`. Our model will be incredibly prone to over-fitting, and this will let us monitor with relative frequency.\n",
        "- `log_interval` - this is how often our training progress will log. You can set this ~`10`. It's dealer's choice, really.\n",
        "- `eval_iters` - this is how *many* iterations we want to evaluate for.\n",
        "- `eval_only` - this would evaluate our model - but not train it. We'll leave this as `False` for now.\n",
        "- `always_save_checkpoint` - this will always save our most recent checkpoint, regardless of metrics. For this example, we'll set this to `True`."
      ],
      "metadata": {
        "id": "2YlolKOj4_dE"
      }
    },
    {
      "cell_type": "code",
      "source": [
        "eval_interval = 250\n",
        "eval_iters = 200\n",
        "log_interval = 10\n",
        "eval_only = False\n",
        "always_save_checkpoint = True"
      ],
      "metadata": {
        "id": "MbFN5Ltq4_mo"
      },
      "execution_count": 38,
      "outputs": []
    },
    {
      "cell_type": "markdown",
      "source": [
        "#### Dataset\n",
        "\n",
        "We can set our dataset here - we'll use the one we created earlier!"
      ],
      "metadata": {
        "id": "a488zaF_4zQk"
      }
    },
    {
      "cell_type": "code",
      "source": [
        "dataset = 'shakespeare'"
      ],
      "metadata": {
        "id": "_QC7vWXC40Hp"
      },
      "execution_count": 39,
      "outputs": []
    },
    {
      "cell_type": "markdown",
      "source": [
        "#### Typical Hyper-Parameters\n",
        "\n",
        "- `gradient_accumulation_steps` - we can use gradient accumulation to \"simulate\" larger batch sizes by combining multiple different optimization steps together, without needing the additional memory for large batch sizes. We don't need to worry so much about this for the toy problem - but this hyper-parameter can be configured for larger training runs. [Here](https://lightning.ai/blog/gradient-accumulation/) is some great reading on the topic.\n",
        "- `batch_size` - Typical batch_size - the larger the merrier (up to a point) we'll be using `16` to ensure we do not exceed the memory quota of our GPU.\n",
        "- `block_size` - this can be thought of as another term for the `context window` of our model. Since our model cannot take variable length inputs - we use this to set all inputs to our desired size. We'll use a value of `512` to ensure speedy training."
      ],
      "metadata": {
        "id": "XP9rBgGc426Q"
      }
    },
    {
      "cell_type": "code",
      "source": [
        "gradient_accumulation_steps = 1\n",
        "batch_size = 16\n",
        "block_size = 512"
      ],
      "metadata": {
        "id": "EM_ybLPP43Pd"
      },
      "execution_count": 40,
      "outputs": []
    },
    {
      "cell_type": "markdown",
      "source": [
        "#### Model Architecture\n",
        "\n",
        "- `n_layer` - this is the number of decoder layers we will use in our model. More would be considered better (up to a point) and the original GPT-2 paper uses `12`, but we will be using a truncated `6` for ease and speed of training.\n",
        "- `n_head` - this is the number of attention heads in each decoder layer!\n",
        "- `n_embd` - this is the embedding dimension of our model, this is analagous to our `model_d` from the previous notebook.\n",
        "- `dropout` - this sets our dropout value, since our model is small and going to be extremely prone to overfitting, consider setting this at a fairly aggresive level (`0.2` was used in the example training found in the notebook`).\n",
        "- `bias` - wether or not to use bias inside the LayerNorm/Linear layers.\n",
        "\n",
        "> NOTE: You need to ensure your `n_embd` is cleanly divided by your `n_head`. That is to say:\n",
        ">\n",
        "> `n_embd % n_head == 0`."
      ],
      "metadata": {
        "id": "UZ-8bDIY45GS"
      }
    },
    {
      "cell_type": "code",
      "source": [
        "n_layer = 6\n",
        "n_head = 6\n",
        "n_embd = 516\n",
        "dropout = 0.2\n",
        "bias = False"
      ],
      "metadata": {
        "id": "gMyyDBxB6k4H"
      },
      "execution_count": 41,
      "outputs": []
    },
    {
      "cell_type": "markdown",
      "source": [
        "#####❓Question:\n",
        "\n",
        "How many attention heads (total) will our final network have?\n",
        "\n",
        "n_layer * n_head = 6 * 6 = 36\n",
        "\n"
      ],
      "metadata": {
        "id": "FiTyY5Cotwig"
      }
    },
    {
      "cell_type": "markdown",
      "source": [
        "#### Optimizer Hyper-Parameters\n",
        "\n",
        "Basic Optimizer Hyper-Parameters:\n",
        "\n",
        "- `learning_rate` - it's our learning rate! We'll want to set this fairly high ~`1e-3` since we're training on such a small dataset.\n",
        "- `max_iters` - how many iterations do we train for. More iters means longer training times. Feel free to tinker with this value! `5000` is a great place to start.\n",
        "\n",
        "Learning Rate Decay Settings:\n",
        "\n",
        "- `decay_lr` - set decay flag\n",
        "- `weight_Decay` - how much to decay lr by\n",
        "- `lr_decay_iters` - should be set to ~max_iters.\n",
        "- `min_lr` - the minimum lr, should be ~ lr / 10\n",
        "\n",
        "Clipping and Warmup:\n",
        "\n",
        "- `grad_clip` - value to clip gradients to. useful for preventing vanishing gradients.\n",
        "- `warmup_iters` - how many iterations to warmup for. Warmup is useful to allow your training to slowly warmup. It will use a low lr for a number of steps to avoid any massive initial spikes. Since we're training a very small model - we can avoid using many wamrup steps.\n",
        "\n",
        "> NOTE: Many learnings taken from the [Chincilla paper](https://arxiv.org/pdf/2203.15556.pdf) for selecting default or appropriate values."
      ],
      "metadata": {
        "id": "3NWDTaAz7gwh"
      }
    },
    {
      "cell_type": "code",
      "source": [
        "# adamw optimizer\n",
        "learning_rate = 1e-3\n",
        "max_iters = 5_000\n",
        "beta1 = 0.9\n",
        "beta2 = 0.99\n",
        "\n",
        "# lr decay settings\n",
        "decay_lr = True\n",
        "weight_decay = 1e-1\n",
        "lr_decay_iters = 5_000\n",
        "min_lr = 1e-4\n",
        "\n",
        "# clipping and warmup\n",
        "grad_clip = 1.0\n",
        "warmup_iters = 100"
      ],
      "metadata": {
        "id": "qe-669jwUptI"
      },
      "execution_count": 42,
      "outputs": []
    },
    {
      "cell_type": "markdown",
      "source": [
        "These hyper-parameters are necessary to set given the task we're training and given the environment we're training in."
      ],
      "metadata": {
        "id": "ucldc4mz9yeT"
      }
    },
    {
      "cell_type": "code",
      "source": [
        "backend = 'nccl'\n",
        "device = 'cuda'\n",
        "dtype = 'bfloat16' if torch.cuda.is_available() and torch.cuda.is_bf16_supported() else 'float16'\n",
        "compile = True\n",
        "# -----------------------------------------------------------------------------\n",
        "config_keys = [k for k,v in globals().items() if not k.startswith('_') and isinstance(v, (int, float, bool, str))]\n",
        "config = {k: globals()[k] for k in config_keys}\n",
        "# -----------------------------------------------------------------------------\n",
        "master_process = True\n",
        "seed_offset = 0\n",
        "ddp_world_size = 1\n",
        "tokens_per_iter = gradient_accumulation_steps * ddp_world_size * batch_size * block_size\n",
        "print(f\"tokens per iteration will be: {tokens_per_iter:,}\")\n",
        "os.makedirs(out_dir, exist_ok=True)"
      ],
      "metadata": {
        "colab": {
          "base_uri": "https://localhost:8080/"
        },
        "id": "xHiGlMOp8Nux",
        "outputId": "251b8781-02cb-468f-d66d-e837b0fe1aa4"
      },
      "execution_count": 43,
      "outputs": [
        {
          "output_type": "stream",
          "name": "stdout",
          "text": [
            "tokens per iteration will be: 8,192\n"
          ]
        }
      ]
    },
    {
      "cell_type": "markdown",
      "source": [
        "### Torch Settings\n",
        "\n",
        "We need to set a few `torch` settings, including the seed, to allow us to train correctly on our GPU.\n",
        "\n",
        "Not much is required for us to understand here - these are just necessary lines of code. Boilerplate."
      ],
      "metadata": {
        "id": "eKmdfbye-BNf"
      }
    },
    {
      "cell_type": "code",
      "source": [
        "torch.manual_seed(1337 + seed_offset)\n",
        "torch.backends.cuda.matmul.allow_tf32 = True\n",
        "torch.backends.cudnn.allow_tf32 = True\n",
        "device_type = 'cuda' if 'cuda' in device else 'cpu'\n",
        "ptdtype = {'float32': torch.float32, 'bfloat16': torch.bfloat16, 'float16': torch.float16}[dtype]\n",
        "ctx = nullcontext() if device_type == 'cpu' else torch.amp.autocast(device_type=device_type, dtype=ptdtype)"
      ],
      "metadata": {
        "id": "yh34QGD6VARU"
      },
      "execution_count": 44,
      "outputs": []
    },
    {
      "cell_type": "markdown",
      "source": [
        "### Dataloader\n",
        "\n",
        "This block will:\n",
        "\n",
        "1. Set the data path\n",
        "2. Load the dataset we tokenized earlier from the `.bin` we saved\n",
        "3. Define a `get_batch` function that will return us a random section of our data as well as a the corresponding \"label\" for that data and move it to the GPU for easy use inside our training loop."
      ],
      "metadata": {
        "id": "gKeNwYaZ-Zoc"
      }
    },
    {
      "cell_type": "code",
      "source": [
        "data_dir = os.path.join('/data', dataset)\n",
        "train_data = np.memmap(os.path.join(data_dir, 'train.bin'), dtype=np.uint16, mode='r')\n",
        "val_data = np.memmap(os.path.join(data_dir, 'val.bin'), dtype=np.uint16, mode='r')\n",
        "\n",
        "def get_batch(split):\n",
        "    data = train_data if split == 'train' else val_data\n",
        "    ix = torch.randint(len(data) - block_size, (batch_size,))\n",
        "    x = torch.stack([torch.from_numpy((data[i:i+block_size]).astype(np.int64)) for i in ix])\n",
        "    y = torch.stack([torch.from_numpy((data[i+1:i+1+block_size]).astype(np.int64)) for i in ix])\n",
        "    if device_type == 'cuda':\n",
        "        # pin arrays x,y, which allows us to move them to GPU asynchronously (non_blocking=True)\n",
        "        x, y = x.pin_memory().to(device, non_blocking=True), y.pin_memory().to(device, non_blocking=True)\n",
        "    else:\n",
        "        x, y = x.to(device), y.to(device)\n",
        "    return x, y"
      ],
      "metadata": {
        "id": "tOjaPyJpVEgx"
      },
      "execution_count": 45,
      "outputs": []
    },
    {
      "cell_type": "markdown",
      "source": [
        "Let's look at what an example of our batches would look like.\n",
        "\n",
        "To remind ourselves:\n",
        "\n",
        "- `train_data` - has ~2.9 million entries\n",
        "- `block_size` - is 512\n",
        "- `batch_size` - is 16"
      ],
      "metadata": {
        "id": "1Z7vMU34yRbq"
      }
    },
    {
      "cell_type": "code",
      "source": [
        "ix = torch.randint(len(train_data) - block_size, (batch_size,))\n",
        "x = torch.stack([torch.from_numpy((train_data[i:i+block_size]).astype(np.int64)) for i in ix])\n",
        "y = torch.stack([torch.from_numpy((train_data[i+1:i+1+block_size]).astype(np.int64)) for i in ix])"
      ],
      "metadata": {
        "id": "9_-Y5RZ-yX2a"
      },
      "execution_count": 46,
      "outputs": []
    },
    {
      "cell_type": "code",
      "source": [
        "print(f\"Our randomly selected indices were: {ix}\")"
      ],
      "metadata": {
        "colab": {
          "base_uri": "https://localhost:8080/"
        },
        "id": "7JDxXph4yh2g",
        "outputId": "31747faa-00e0-41c4-e487-f6e27621c697"
      },
      "execution_count": 47,
      "outputs": [
        {
          "output_type": "stream",
          "name": "stdout",
          "text": [
            "Our randomly selected indices were: tensor([ 99775, 155569, 263696,  32920,  52919, 231541, 153767, 229238, 136782,\n",
            "        263618,  39008,  14208,  39429, 189430, 194466,  76798])\n"
          ]
        }
      ]
    },
    {
      "cell_type": "code",
      "source": [
        "print(f\"The first 10 elements of `x` at the first randomly selected index is:\\n{x[0][:10]}\")"
      ],
      "metadata": {
        "colab": {
          "base_uri": "https://localhost:8080/"
        },
        "id": "UAzHJH-kzK5E",
        "outputId": "cb39c4c9-d63b-44a1-b2ea-fc5c613dadf0"
      },
      "execution_count": 48,
      "outputs": [
        {
          "output_type": "stream",
          "name": "stdout",
          "text": [
            "The first 10 elements of `x` at the first randomly selected index is:\n",
            "tensor([   68,    16,    81,  2358, 19949,   116,   172,  1280,     9,    68])\n"
          ]
        }
      ]
    },
    {
      "cell_type": "code",
      "source": [
        "print(f\"The first 10 elements of `y` at the first randomly selected index is:\\n{y[0][:10]}\")"
      ],
      "metadata": {
        "colab": {
          "base_uri": "https://localhost:8080/"
        },
        "id": "bbaF6v8ezkWn",
        "outputId": "3a685d40-3054-413e-a808-1ed2bc16d28b"
      },
      "execution_count": 49,
      "outputs": [
        {
          "output_type": "stream",
          "name": "stdout",
          "text": [
            "The first 10 elements of `y` at the first randomly selected index is:\n",
            "tensor([   16,    81,  2358, 19949,   116,   172,  1280,     9,    68,    16])\n"
          ]
        }
      ]
    },
    {
      "cell_type": "markdown",
      "source": [
        "#####❓Question:\n",
        "\n",
        "Both `x` and `y` are lists of tokens - as is expected - but what relationship to you notice between `x` and `y`?\n",
        "\n",
        "> HINT: What is our auto-regressive language model trying to predict?\n",
        "\n",
        "ANSWER: There is a shift by one, e.g. `y` is the token to be predicted by `x`."
      ],
      "metadata": {
        "id": "zOwOEI0Pzntj"
      }
    },
    {
      "cell_type": "markdown",
      "source": [
        "So the first component selects a random index from our training data (accounting for our block size)"
      ],
      "metadata": {
        "id": "N62oDfdWy0XJ"
      }
    },
    {
      "cell_type": "markdown",
      "source": [
        "### Simple Initialization of Model\n",
        "\n",
        "Here we init our number of iterations as 0, and our best val loss as a very high number."
      ],
      "metadata": {
        "id": "EbDlW-68_atH"
      }
    },
    {
      "cell_type": "code",
      "source": [
        "iter_num = 0\n",
        "best_val_loss = 1e9"
      ],
      "metadata": {
        "id": "6hsepdVBVzQU"
      },
      "execution_count": 50,
      "outputs": []
    },
    {
      "cell_type": "markdown",
      "source": [
        "Obtain our vocab size from our trained tokenizer."
      ],
      "metadata": {
        "id": "A4Uj9qBI_vXc"
      }
    },
    {
      "cell_type": "code",
      "source": [
        "meta_path = os.path.join(data_dir, 'meta.pkl')\n",
        "meta_vocab_size = tokenizer.vocab_size\n",
        "meta_vocab_size"
      ],
      "metadata": {
        "colab": {
          "base_uri": "https://localhost:8080/"
        },
        "id": "m53DcCdFV0_a",
        "outputId": "3effa2c5-caf5-4777-c860-1113ab96a7a1"
      },
      "execution_count": 51,
      "outputs": [
        {
          "output_type": "execute_result",
          "data": {
            "text/plain": [
              "20099"
            ]
          },
          "metadata": {},
          "execution_count": 51
        }
      ]
    },
    {
      "cell_type": "markdown",
      "source": [
        "Create our model args dict."
      ],
      "metadata": {
        "id": "V7bcNelYARmD"
      }
    },
    {
      "cell_type": "code",
      "source": [
        "model_args = dict(n_layer=n_layer, n_head=n_head, n_embd=n_embd, block_size=block_size,\n",
        "                  bias=bias, vocab_size=None, dropout=dropout)"
      ],
      "metadata": {
        "id": "JfIWEbanV7ZS"
      },
      "execution_count": 52,
      "outputs": []
    },
    {
      "cell_type": "markdown",
      "source": [
        "Instantiate our model with the provided `model_args`.\n",
        "\n",
        "These are derived from the hyper-parameters we set above."
      ],
      "metadata": {
        "id": "2WWcbkiCAUI2"
      }
    },
    {
      "cell_type": "code",
      "source": [
        "if init_from == 'scratch':\n",
        "    print(\"Initializing a new model from scratch\")\n",
        "    if meta_vocab_size is None:\n",
        "        print(\"defaulting to vocab_size of GPT-2 to 50304 (50257 rounded up for efficiency)\")\n",
        "    model_args['vocab_size'] = meta_vocab_size if meta_vocab_size is not None else 50304\n",
        "    gptconf = GPTConfig(**model_args)\n",
        "    model = GPT(gptconf)"
      ],
      "metadata": {
        "colab": {
          "base_uri": "https://localhost:8080/"
        },
        "id": "1Xly4iA0V-vF",
        "outputId": "c729b643-cc97-47a1-fd88-df737b749886"
      },
      "execution_count": 53,
      "outputs": [
        {
          "output_type": "stream",
          "name": "stdout",
          "text": [
            "Initializing a new model from scratch\n",
            "number of parameters: 29.55M\n"
          ]
        }
      ]
    },
    {
      "cell_type": "markdown",
      "source": [
        "There we go! If you used the default values - you should have a model with 29.55M parameters!\n",
        "\n",
        "Let's set our block_size to the correct size as determined in our configuration steps."
      ],
      "metadata": {
        "id": "BpViOsxLAl6p"
      }
    },
    {
      "cell_type": "code",
      "source": [
        "if block_size < model.config.block_size:\n",
        "    model.crop_block_size(block_size)\n",
        "    model_args['block_size'] = block_size"
      ],
      "metadata": {
        "id": "TrEawNxdWRhm"
      },
      "execution_count": 54,
      "outputs": []
    },
    {
      "cell_type": "markdown",
      "source": [
        "Now we can look at our model in all its glory!"
      ],
      "metadata": {
        "id": "eRgguPLKAuZ5"
      }
    },
    {
      "cell_type": "code",
      "source": [
        "model.to(device)"
      ],
      "metadata": {
        "colab": {
          "base_uri": "https://localhost:8080/"
        },
        "id": "zaE3KSTnAtJs",
        "outputId": "6a360ef2-8541-4a1c-8388-bfc361518d50"
      },
      "execution_count": 55,
      "outputs": [
        {
          "output_type": "execute_result",
          "data": {
            "text/plain": [
              "GPT(\n",
              "  (transformer): ModuleDict(\n",
              "    (wte): Embedding(20099, 516)\n",
              "    (wpe): Embedding(512, 516)\n",
              "    (drop): Dropout(p=0.2, inplace=False)\n",
              "    (h): ModuleList(\n",
              "      (0-5): 6 x Block(\n",
              "        (ln_1): LayerNorm()\n",
              "        (attn): CausalSelfAttention(\n",
              "          (c_attn): Linear(in_features=516, out_features=1548, bias=False)\n",
              "          (c_proj): Linear(in_features=516, out_features=516, bias=False)\n",
              "          (attn_dropout): Dropout(p=0.2, inplace=False)\n",
              "          (resid_dropout): Dropout(p=0.2, inplace=False)\n",
              "        )\n",
              "        (ln_2): LayerNorm()\n",
              "        (mlp): MLP(\n",
              "          (c_fc): Linear(in_features=516, out_features=2064, bias=False)\n",
              "          (gelu): GELU(approximate='none')\n",
              "          (c_proj): Linear(in_features=2064, out_features=516, bias=False)\n",
              "          (dropout): Dropout(p=0.2, inplace=False)\n",
              "        )\n",
              "      )\n",
              "    )\n",
              "    (ln_f): LayerNorm()\n",
              "  )\n",
              "  (lm_head): Linear(in_features=516, out_features=20099, bias=False)\n",
              ")"
            ]
          },
          "metadata": {},
          "execution_count": 55
        }
      ]
    },
    {
      "cell_type": "markdown",
      "source": [
        "###🏗️Activity:\n",
        "\n",
        "Label the following components of the transformer architecture with the module names of our newly device-cast model!\n",
        "\n",
        "The first layer is provided as an example.\n",
        "\n",
        "- Layer Normalization: `ln_f` (ln_1), (ln_2) and (ln_f)\n",
        "- Linear Projection for Output: (lm_head)\n",
        "- Attention Mechanism: (attn)\n",
        "- Positional Encoding: (wpe)\n",
        "- Embeddings: (wte)\n",
        "- Feed Forward Network: (mlp)\n",
        "\n"
      ],
      "metadata": {
        "id": "oHVw3KF3uvIA"
      }
    },
    {
      "cell_type": "markdown",
      "source": [
        "We'll set up our GradScaler - more information on this process [here](https://pytorch.org/docs/stable/amp.html#gradient-scaling)."
      ],
      "metadata": {
        "id": "LzoEY6gcBOSp"
      }
    },
    {
      "cell_type": "code",
      "source": [
        "scaler = torch.cuda.amp.GradScaler(enabled=(dtype == 'float16'))"
      ],
      "metadata": {
        "id": "BNUThRt4WT5H"
      },
      "execution_count": 56,
      "outputs": []
    },
    {
      "cell_type": "markdown",
      "source": [
        "Let's set up our optimizer below. Be sure to include the correct values. You can check the `model.py` file for more information on what is expected in the `configure_optimizers` method [here](https://github.com/karpathy/nanoGPT/blob/eba36e84649f3c6d840a93092cb779a260544d08/model.py#L263C85-L263C85)."
      ],
      "metadata": {
        "id": "6Zs5Hcf9BBUD"
      }
    },
    {
      "cell_type": "code",
      "source": [
        "optimizer = model.configure_optimizers(\n",
        "    weight_decay,\n",
        "    learning_rate,\n",
        "    (beta1, beta2),\n",
        "    device_type\n",
        ")\n",
        "\n",
        "checkpoint = None"
      ],
      "metadata": {
        "colab": {
          "base_uri": "https://localhost:8080/"
        },
        "id": "YesGeUnoWViL",
        "outputId": "b1757df4-89c4-42be-8227-a3bdc49aee8e"
      },
      "execution_count": 57,
      "outputs": [
        {
          "output_type": "stream",
          "name": "stdout",
          "text": [
            "num decayed parameter tensors: 26, with 29,805,708 parameters\n",
            "num non-decayed parameter tensors: 13, with 6,708 parameters\n",
            "using fused AdamW: True\n"
          ]
        }
      ]
    },
    {
      "cell_type": "markdown",
      "source": [
        "Now we can compile our model!\n",
        "\n",
        "If you're using the T4 or V100 instance of Colab - this will not provide a signficant speed-up, but if you're using Ampere architecture (A100) you should notice a significant difference between the compiled and uncompiled model.\n",
        "\n",
        "Read more about `torch.compile()` [here](https://pytorch.org/tutorials/intermediate/torch_compile_tutorial.html)."
      ],
      "metadata": {
        "id": "ZF5YWJoKB4og"
      }
    },
    {
      "cell_type": "code",
      "source": [
        "if compile:\n",
        "    print(\"compiling the model... (takes a ~minute)\")\n",
        "    unoptimized_model = model\n",
        "    model = torch.compile(model) # requires PyTorch 2.0"
      ],
      "metadata": {
        "colab": {
          "base_uri": "https://localhost:8080/"
        },
        "id": "v0FNU0T0WXdI",
        "outputId": "f8da478c-db61-45f2-8b3b-9dee2a36f5cc"
      },
      "execution_count": 58,
      "outputs": [
        {
          "output_type": "stream",
          "name": "stdout",
          "text": [
            "compiling the model... (takes a ~minute)\n"
          ]
        }
      ]
    },
    {
      "cell_type": "markdown",
      "source": [
        "We'll set up our loss estimation function here, which will help us estimate an arbitrarily accurate loss over either training or validation data by using many batches.\n",
        "\n",
        "You'll notice that we quickly convert the model into `.eval()` model and then back to `.train()` mode."
      ],
      "metadata": {
        "id": "p6lRcVsZCXRO"
      }
    },
    {
      "cell_type": "code",
      "source": [
        "@torch.no_grad()\n",
        "def estimate_loss():\n",
        "    out = {}\n",
        "    model.eval()\n",
        "    for split in ['train', 'val']:\n",
        "        losses = torch.zeros(eval_iters)\n",
        "        for k in range(eval_iters):\n",
        "            X, Y = get_batch(split)\n",
        "            with ctx:\n",
        "                logits, loss = model(X, Y)\n",
        "            losses[k] = loss.item()\n",
        "        out[split] = losses.mean()\n",
        "    model.train()\n",
        "    return out"
      ],
      "metadata": {
        "id": "lUB5zVLVWbhM"
      },
      "execution_count": 59,
      "outputs": []
    },
    {
      "cell_type": "markdown",
      "source": [
        "### Creating our LR Scheduler\n",
        "\n",
        "Beyond just slowly reducing our learning rate over time - we can use an LR Scheduler to allow us to move our learning according to a desired pattern.\n",
        "\n",
        "We will use a \"cosine with warmup\" schedule and our learning rate, thusly, will follow this pattern:\n",
        "\n",
        "![img](https://i.imgur.com/KoFEl0b.png)\n",
        "\n",
        "There are many different schedulers, and many different ways to handle learning rate, and you can read about just a few of them [here](https://d2l.ai/chapter_optimization/lr-scheduler.html)!"
      ],
      "metadata": {
        "id": "fLsOpaACDDkF"
      }
    },
    {
      "cell_type": "code",
      "source": [
        "def get_lr(it):\n",
        "    # 1) linear warmup for warmup_iters steps\n",
        "    if it < warmup_iters:\n",
        "        return learning_rate * it / warmup_iters\n",
        "    # 2) if it > lr_decay_iters, return min learning rate\n",
        "    if it > lr_decay_iters:\n",
        "        return min_lr\n",
        "    # 3) in between, use cosine decay down to min learning rate\n",
        "    decay_ratio = (it - warmup_iters) / (lr_decay_iters - warmup_iters)\n",
        "    assert 0 <= decay_ratio <= 1\n",
        "    coeff = 0.5 * (1.0 + math.cos(math.pi * decay_ratio)) # coeff ranges 0..1\n",
        "    return min_lr + coeff * (learning_rate - min_lr)"
      ],
      "metadata": {
        "id": "7-mNpWBSWdHh"
      },
      "execution_count": 60,
      "outputs": []
    },
    {
      "cell_type": "markdown",
      "source": [
        "###❓Question:\n",
        "\n",
        "What advantages does a learning-rate scheduler have over a static learning rate?\n",
        "\n",
        "Feel free to consult and cite any resources you find!\n",
        "\n",
        "ANSWER: It avoids dependency on the first training steps, it also improves the overal training procedure"
      ],
      "metadata": {
        "id": "UV0qN0fDwdOF"
      }
    },
    {
      "cell_type": "markdown",
      "source": [
        "We need to set some specific values in our env to allow training in Colab."
      ],
      "metadata": {
        "id": "cqFePCZmE1Lq"
      }
    },
    {
      "cell_type": "code",
      "source": [
        "!export LC_ALL=\"en_US.UTF-8\"\n",
        "!export LD_LIBRARY_PATH=\"/usr/lib64-nvidia\"\n",
        "!export LIBRARY_PATH=\"/usr/local/cuda/lib64/stubs\"\n",
        "!ldconfig /usr/lib64-nvidia"
      ],
      "metadata": {
        "colab": {
          "base_uri": "https://localhost:8080/"
        },
        "id": "-7nDL6s4YT6E",
        "outputId": "b3e7bc08-3ed6-4a61-ae3e-5df2be0fcd83"
      },
      "execution_count": 61,
      "outputs": [
        {
          "output_type": "stream",
          "name": "stdout",
          "text": [
            "/sbin/ldconfig.real: /usr/local/lib/libtbbbind.so.3 is not a symbolic link\n",
            "\n",
            "/sbin/ldconfig.real: /usr/local/lib/libtbb.so.12 is not a symbolic link\n",
            "\n",
            "/sbin/ldconfig.real: /usr/local/lib/libtbbmalloc_proxy.so.2 is not a symbolic link\n",
            "\n",
            "/sbin/ldconfig.real: /usr/local/lib/libtbbmalloc.so.2 is not a symbolic link\n",
            "\n",
            "/sbin/ldconfig.real: /usr/local/lib/libtbbbind_2_0.so.3 is not a symbolic link\n",
            "\n",
            "/sbin/ldconfig.real: /usr/local/lib/libtbbbind_2_5.so.3 is not a symbolic link\n",
            "\n"
          ]
        }
      ]
    },
    {
      "cell_type": "markdown",
      "source": [
        "## The Training Loop\n",
        "\n",
        "Now we can finally grab our first batch and set our initial time to calculate how long our iterations are taking!"
      ],
      "metadata": {
        "id": "Nhqmxeo0Eg0Z"
      }
    },
    {
      "cell_type": "code",
      "source": [
        "X, Y = get_batch('train')\n",
        "t0 = time.time()\n",
        "local_iter_num = 0\n",
        "raw_model = model\n",
        "running_mfu = -1.0 # model flops utilization\n",
        "\n",
        "while True:\n",
        "    # determine and set the learning rate for this iteration\n",
        "    lr = get_lr(iter_num) if decay_lr else learning_rate\n",
        "    for param_group in optimizer.param_groups:\n",
        "        param_group['lr'] = lr\n",
        "\n",
        "    # evaluate the loss on train/val sets and write checkpoints\n",
        "    if iter_num % eval_interval == 0 and master_process:\n",
        "        losses = estimate_loss()\n",
        "        print(f\"step {iter_num}: train loss {losses['train']:.4f}, val loss {losses['val']:.4f}\")\n",
        "        if losses['val'] < best_val_loss or always_save_checkpoint:\n",
        "            best_val_loss = losses['val']\n",
        "            if iter_num > 0:\n",
        "                checkpoint = {\n",
        "                    'model': raw_model.state_dict(),\n",
        "                    'optimizer': optimizer.state_dict(),\n",
        "                    'model_args': model_args,\n",
        "                    'iter_num': iter_num,\n",
        "                    'best_val_loss': best_val_loss,\n",
        "                    'config': config,\n",
        "                }\n",
        "                print(f\"saving checkpoint to {out_dir}\")\n",
        "                torch.save(checkpoint, os.path.join(out_dir, 'ckpt.pt'))\n",
        "    if iter_num == 0 and eval_only:\n",
        "        break\n",
        "\n",
        "    # forward backward update, with optional gradient accumulation to simulate larger batch size\n",
        "    # and using the GradScaler if data type is float16\n",
        "    for micro_step in range(gradient_accumulation_steps):\n",
        "        with ctx:\n",
        "            logits, loss = model(X, Y)\n",
        "            loss = loss / gradient_accumulation_steps # scale the loss to account for gradient accumulation\n",
        "        # immediately async prefetch next batch while model is doing the forward pass on the GPU\n",
        "        X, Y = get_batch('train')\n",
        "        # backward pass, with gradient scaling if training in fp16\n",
        "        scaler.scale(loss).backward()\n",
        "    # clip the gradient\n",
        "    if grad_clip != 0.0:\n",
        "        scaler.unscale_(optimizer)\n",
        "        torch.nn.utils.clip_grad_norm_(model.parameters(), grad_clip)\n",
        "    # step the optimizer and scaler if training in fp16\n",
        "    scaler.step(optimizer)\n",
        "    scaler.update()\n",
        "    # flush the gradients as soon as we can, no need for this memory anymore\n",
        "    optimizer.zero_grad(set_to_none=True)\n",
        "\n",
        "    # timing and logging\n",
        "    t1 = time.time()\n",
        "    dt = t1 - t0\n",
        "    t0 = t1\n",
        "    if iter_num % log_interval == 0 and master_process:\n",
        "        # get loss as float. note: this is a CPU-GPU sync point\n",
        "        # scale up to undo the division above, approximating the true total loss (exact would have been a sum)\n",
        "        lossf = loss.item() * gradient_accumulation_steps\n",
        "        if local_iter_num >= 5: # let the training loop settle a bit\n",
        "            mfu = raw_model.estimate_mfu(batch_size * gradient_accumulation_steps, dt)\n",
        "            running_mfu = mfu if running_mfu == -1.0 else 0.9*running_mfu + 0.1*mfu\n",
        "        print(f\"iter {iter_num}: loss {lossf:.4f}, time {dt*1000:.2f}ms, mfu {running_mfu*100:.2f}%\")\n",
        "    iter_num += 1\n",
        "    local_iter_num += 1\n",
        "\n",
        "    # termination conditions\n",
        "    if iter_num > max_iters:\n",
        "        break"
      ],
      "metadata": {
        "colab": {
          "base_uri": "https://localhost:8080/"
        },
        "id": "kHbyEapRWmpc",
        "outputId": "1507d9ab-6d96-4f92-ecee-398ad82e76e1"
      },
      "execution_count": 62,
      "outputs": [
        {
          "output_type": "stream",
          "name": "stdout",
          "text": [
            "step 0: train loss 9.9354, val loss 9.9274\n",
            "iter 0: loss 9.9335, time 55660.80ms, mfu -100.00%\n",
            "iter 10: loss 8.3524, time 29.35ms, mfu 17.56%\n",
            "iter 20: loss 7.3767, time 29.37ms, mfu 17.56%\n",
            "iter 30: loss 6.4389, time 29.45ms, mfu 17.55%\n",
            "iter 40: loss 5.7988, time 29.46ms, mfu 17.55%\n",
            "iter 50: loss 5.7236, time 29.43ms, mfu 17.54%\n",
            "iter 60: loss 5.4841, time 29.53ms, mfu 17.53%\n",
            "iter 70: loss 5.2206, time 29.73ms, mfu 17.51%\n",
            "iter 80: loss 5.0748, time 29.45ms, mfu 17.51%\n",
            "iter 90: loss 4.9735, time 29.43ms, mfu 17.51%\n",
            "iter 100: loss 4.5802, time 29.58ms, mfu 17.51%\n",
            "iter 110: loss 4.5936, time 29.38ms, mfu 17.51%\n",
            "iter 120: loss 4.5383, time 29.42ms, mfu 17.51%\n",
            "iter 130: loss 4.5223, time 29.40ms, mfu 17.51%\n",
            "iter 140: loss 4.4387, time 29.45ms, mfu 17.51%\n",
            "iter 150: loss 4.4656, time 29.39ms, mfu 17.51%\n",
            "iter 160: loss 4.4267, time 29.37ms, mfu 17.52%\n",
            "iter 170: loss 4.2988, time 29.34ms, mfu 17.52%\n",
            "iter 180: loss 4.4191, time 29.34ms, mfu 17.53%\n",
            "iter 190: loss 4.2559, time 29.39ms, mfu 17.53%\n",
            "iter 200: loss 4.2153, time 29.37ms, mfu 17.53%\n",
            "iter 210: loss 4.2448, time 29.40ms, mfu 17.53%\n",
            "iter 220: loss 4.2417, time 29.46ms, mfu 17.53%\n",
            "iter 230: loss 4.1988, time 29.41ms, mfu 17.53%\n",
            "iter 240: loss 4.0866, time 29.67ms, mfu 17.51%\n",
            "step 250: train loss 3.9710, val loss 4.9602\n",
            "saving checkpoint to out\n",
            "iter 250: loss 4.0298, time 3872.09ms, mfu 15.77%\n",
            "iter 260: loss 4.0513, time 29.39ms, mfu 15.95%\n",
            "iter 270: loss 3.8729, time 29.41ms, mfu 16.11%\n",
            "iter 280: loss 4.0001, time 29.40ms, mfu 16.25%\n",
            "iter 290: loss 3.8649, time 28.99ms, mfu 16.40%\n",
            "iter 300: loss 3.8802, time 29.37ms, mfu 16.52%\n",
            "iter 310: loss 3.9800, time 29.42ms, mfu 16.62%\n",
            "iter 320: loss 3.8007, time 29.46ms, mfu 16.71%\n",
            "iter 330: loss 3.7912, time 29.40ms, mfu 16.79%\n",
            "iter 340: loss 3.8878, time 29.60ms, mfu 16.85%\n",
            "iter 350: loss 3.7223, time 29.38ms, mfu 16.92%\n",
            "iter 360: loss 3.6102, time 28.74ms, mfu 17.02%\n",
            "iter 370: loss 3.7376, time 31.78ms, mfu 16.94%\n",
            "iter 380: loss 3.6914, time 29.32ms, mfu 17.01%\n",
            "iter 390: loss 3.6878, time 29.44ms, mfu 17.06%\n",
            "iter 400: loss 3.4834, time 29.49ms, mfu 17.10%\n",
            "iter 410: loss 3.6663, time 29.47ms, mfu 17.14%\n",
            "iter 420: loss 3.5268, time 29.42ms, mfu 17.18%\n",
            "iter 430: loss 3.6225, time 29.48ms, mfu 17.21%\n",
            "iter 440: loss 3.5258, time 29.75ms, mfu 17.22%\n",
            "iter 450: loss 3.5354, time 29.37ms, mfu 17.25%\n",
            "iter 460: loss 3.4977, time 29.35ms, mfu 17.28%\n",
            "iter 470: loss 3.5419, time 29.28ms, mfu 17.31%\n",
            "iter 480: loss 3.3401, time 29.40ms, mfu 17.34%\n",
            "iter 490: loss 3.4720, time 29.44ms, mfu 17.35%\n",
            "step 500: train loss 3.3475, val loss 5.1170\n",
            "saving checkpoint to out\n",
            "iter 500: loss 3.3755, time 4171.15ms, mfu 15.63%\n",
            "iter 510: loss 3.5361, time 28.31ms, mfu 15.89%\n",
            "iter 520: loss 3.4376, time 29.31ms, mfu 16.06%\n",
            "iter 530: loss 3.3155, time 29.35ms, mfu 16.21%\n",
            "iter 540: loss 3.4506, time 29.39ms, mfu 16.34%\n",
            "iter 550: loss 3.2782, time 29.43ms, mfu 16.46%\n",
            "iter 560: loss 3.1966, time 29.34ms, mfu 16.57%\n",
            "iter 570: loss 3.1289, time 29.42ms, mfu 16.66%\n",
            "iter 580: loss 3.2350, time 29.09ms, mfu 16.77%\n",
            "iter 590: loss 3.1644, time 29.45ms, mfu 16.84%\n",
            "iter 600: loss 3.2030, time 29.52ms, mfu 16.90%\n",
            "iter 610: loss 3.1584, time 29.61ms, mfu 16.95%\n",
            "iter 620: loss 3.1187, time 29.46ms, mfu 17.01%\n",
            "iter 630: loss 3.1991, time 29.26ms, mfu 17.07%\n",
            "iter 640: loss 3.1906, time 29.99ms, mfu 17.08%\n",
            "iter 650: loss 3.1056, time 29.42ms, mfu 17.13%\n",
            "iter 660: loss 3.1182, time 29.41ms, mfu 17.17%\n",
            "iter 670: loss 3.1048, time 29.45ms, mfu 17.20%\n",
            "iter 680: loss 2.9957, time 29.56ms, mfu 17.22%\n",
            "iter 690: loss 3.0580, time 29.73ms, mfu 17.23%\n",
            "iter 700: loss 2.9223, time 29.45ms, mfu 17.26%\n",
            "iter 710: loss 3.0164, time 29.48ms, mfu 17.28%\n",
            "iter 720: loss 2.7738, time 29.41ms, mfu 17.31%\n",
            "iter 730: loss 2.9528, time 29.47ms, mfu 17.33%\n",
            "iter 740: loss 2.8797, time 29.42ms, mfu 17.34%\n",
            "step 750: train loss 2.6727, val loss 5.4574\n",
            "saving checkpoint to out\n",
            "iter 750: loss 2.8088, time 4176.98ms, mfu 15.62%\n",
            "iter 760: loss 2.8326, time 29.44ms, mfu 15.81%\n",
            "iter 770: loss 2.7451, time 29.44ms, mfu 15.98%\n",
            "iter 780: loss 2.7534, time 29.34ms, mfu 16.14%\n",
            "iter 790: loss 2.6855, time 29.41ms, mfu 16.28%\n",
            "iter 800: loss 2.9558, time 29.40ms, mfu 16.40%\n",
            "iter 810: loss 2.7858, time 29.35ms, mfu 16.52%\n",
            "iter 820: loss 2.7464, time 29.33ms, mfu 16.63%\n",
            "iter 830: loss 2.6065, time 29.37ms, mfu 16.72%\n",
            "iter 840: loss 2.6765, time 29.33ms, mfu 16.80%\n",
            "iter 850: loss 2.8507, time 29.39ms, mfu 16.88%\n",
            "iter 860: loss 2.6323, time 29.42ms, mfu 16.94%\n",
            "iter 870: loss 2.5077, time 29.36ms, mfu 17.00%\n",
            "iter 880: loss 2.5550, time 29.42ms, mfu 17.05%\n",
            "iter 890: loss 2.5129, time 29.41ms, mfu 17.10%\n",
            "iter 900: loss 2.4018, time 29.36ms, mfu 17.15%\n",
            "iter 910: loss 2.5452, time 29.56ms, mfu 17.18%\n",
            "iter 920: loss 2.4749, time 29.42ms, mfu 17.21%\n",
            "iter 930: loss 2.3382, time 29.44ms, mfu 17.24%\n",
            "iter 940: loss 2.5139, time 29.35ms, mfu 17.27%\n",
            "iter 950: loss 2.3905, time 29.35ms, mfu 17.30%\n",
            "iter 960: loss 2.1080, time 29.40ms, mfu 17.32%\n",
            "iter 970: loss 2.2002, time 29.38ms, mfu 17.35%\n",
            "iter 980: loss 2.2792, time 29.39ms, mfu 17.37%\n",
            "iter 990: loss 2.1664, time 29.36ms, mfu 17.38%\n",
            "step 1000: train loss 1.9214, val loss 5.9023\n",
            "saving checkpoint to out\n",
            "iter 1000: loss 2.4269, time 4171.02ms, mfu 15.66%\n",
            "iter 1010: loss 2.2039, time 29.57ms, mfu 15.84%\n",
            "iter 1020: loss 2.2633, time 29.43ms, mfu 16.00%\n",
            "iter 1030: loss 2.3465, time 29.41ms, mfu 16.16%\n",
            "iter 1040: loss 1.9887, time 29.50ms, mfu 16.29%\n",
            "iter 1050: loss 1.9713, time 29.55ms, mfu 16.40%\n",
            "iter 1060: loss 2.0825, time 29.40ms, mfu 16.52%\n",
            "iter 1070: loss 1.9527, time 29.40ms, mfu 16.62%\n",
            "iter 1080: loss 2.1479, time 29.40ms, mfu 16.71%\n",
            "iter 1090: loss 1.8121, time 29.45ms, mfu 16.79%\n",
            "iter 1100: loss 2.0187, time 29.43ms, mfu 16.86%\n",
            "iter 1110: loss 1.9961, time 29.50ms, mfu 16.92%\n",
            "iter 1120: loss 1.9212, time 29.42ms, mfu 16.98%\n",
            "iter 1130: loss 1.8118, time 29.47ms, mfu 17.03%\n",
            "iter 1140: loss 1.8459, time 29.41ms, mfu 17.08%\n",
            "iter 1150: loss 1.8788, time 29.43ms, mfu 17.13%\n",
            "iter 1160: loss 1.9620, time 29.43ms, mfu 17.16%\n",
            "iter 1170: loss 1.9420, time 29.33ms, mfu 17.21%\n",
            "iter 1180: loss 1.7118, time 29.38ms, mfu 17.24%\n",
            "iter 1190: loss 1.8992, time 29.40ms, mfu 17.27%\n",
            "iter 1200: loss 1.8639, time 29.42ms, mfu 17.29%\n",
            "iter 1210: loss 1.9567, time 29.28ms, mfu 17.32%\n",
            "iter 1220: loss 1.8084, time 29.35ms, mfu 17.35%\n",
            "iter 1230: loss 1.7714, time 29.42ms, mfu 17.37%\n",
            "iter 1240: loss 1.6854, time 29.24ms, mfu 17.39%\n",
            "step 1250: train loss 1.3156, val loss 6.3641\n",
            "saving checkpoint to out\n",
            "iter 1250: loss 1.6729, time 4184.38ms, mfu 15.67%\n",
            "iter 1260: loss 1.6579, time 29.43ms, mfu 15.85%\n",
            "iter 1270: loss 1.7942, time 29.46ms, mfu 16.01%\n",
            "iter 1280: loss 1.5494, time 29.33ms, mfu 16.17%\n",
            "iter 1290: loss 1.6099, time 29.45ms, mfu 16.30%\n",
            "iter 1300: loss 1.6802, time 29.44ms, mfu 16.42%\n",
            "iter 1310: loss 1.6816, time 29.48ms, mfu 16.53%\n",
            "iter 1320: loss 1.5168, time 29.43ms, mfu 16.63%\n",
            "iter 1330: loss 1.5045, time 29.24ms, mfu 16.73%\n",
            "iter 1340: loss 1.4853, time 29.41ms, mfu 16.81%\n",
            "iter 1350: loss 1.6087, time 29.50ms, mfu 16.88%\n",
            "iter 1360: loss 1.6244, time 29.46ms, mfu 16.94%\n",
            "iter 1370: loss 1.4828, time 29.42ms, mfu 17.00%\n",
            "iter 1380: loss 1.5956, time 29.37ms, mfu 17.05%\n",
            "iter 1390: loss 1.5351, time 29.48ms, mfu 17.09%\n",
            "iter 1400: loss 1.4593, time 29.43ms, mfu 17.14%\n",
            "iter 1410: loss 1.4367, time 29.34ms, mfu 17.18%\n",
            "iter 1420: loss 1.4857, time 29.82ms, mfu 17.19%\n",
            "iter 1430: loss 1.4781, time 29.44ms, mfu 17.22%\n",
            "iter 1440: loss 1.3982, time 29.46ms, mfu 17.25%\n",
            "iter 1450: loss 1.5543, time 29.44ms, mfu 17.28%\n",
            "iter 1460: loss 1.3509, time 29.46ms, mfu 17.30%\n",
            "iter 1470: loss 1.4377, time 29.45ms, mfu 17.32%\n",
            "iter 1480: loss 1.3427, time 32.22ms, mfu 17.19%\n",
            "iter 1490: loss 1.4718, time 29.37ms, mfu 17.22%\n",
            "step 1500: train loss 0.9296, val loss 6.9054\n",
            "saving checkpoint to out\n",
            "iter 1500: loss 1.3794, time 4178.63ms, mfu 15.51%\n",
            "iter 1510: loss 1.3252, time 29.23ms, mfu 15.72%\n",
            "iter 1520: loss 1.4092, time 29.47ms, mfu 15.90%\n",
            "iter 1530: loss 1.2156, time 29.45ms, mfu 16.06%\n",
            "iter 1540: loss 1.2635, time 29.43ms, mfu 16.21%\n",
            "iter 1550: loss 1.2573, time 29.37ms, mfu 16.34%\n",
            "iter 1560: loss 1.2444, time 29.42ms, mfu 16.46%\n",
            "iter 1570: loss 1.2678, time 29.41ms, mfu 16.57%\n",
            "iter 1580: loss 1.2202, time 29.41ms, mfu 16.66%\n",
            "iter 1590: loss 1.2027, time 29.44ms, mfu 16.75%\n",
            "iter 1600: loss 1.2483, time 29.40ms, mfu 16.82%\n",
            "iter 1610: loss 1.2715, time 29.52ms, mfu 16.89%\n",
            "iter 1620: loss 1.2286, time 29.42ms, mfu 16.95%\n",
            "iter 1630: loss 1.2140, time 29.37ms, mfu 17.01%\n",
            "iter 1640: loss 1.1584, time 29.33ms, mfu 17.07%\n",
            "iter 1650: loss 1.1739, time 29.34ms, mfu 17.12%\n",
            "iter 1660: loss 1.1739, time 29.40ms, mfu 17.16%\n",
            "iter 1670: loss 1.1391, time 29.45ms, mfu 17.19%\n",
            "iter 1680: loss 1.1727, time 29.46ms, mfu 17.22%\n",
            "iter 1690: loss 1.2527, time 29.45ms, mfu 17.25%\n",
            "iter 1700: loss 1.1407, time 29.44ms, mfu 17.28%\n",
            "iter 1710: loss 0.9988, time 29.55ms, mfu 17.29%\n",
            "iter 1720: loss 1.0823, time 29.37ms, mfu 17.32%\n",
            "iter 1730: loss 1.1075, time 29.39ms, mfu 17.34%\n",
            "iter 1740: loss 1.0610, time 29.20ms, mfu 17.37%\n",
            "step 1750: train loss 0.6670, val loss 7.2204\n",
            "saving checkpoint to out\n",
            "iter 1750: loss 1.0522, time 4174.27ms, mfu 15.65%\n",
            "iter 1760: loss 1.0860, time 29.44ms, mfu 15.83%\n",
            "iter 1770: loss 1.1051, time 29.43ms, mfu 16.00%\n",
            "iter 1780: loss 1.0355, time 29.30ms, mfu 16.16%\n",
            "iter 1790: loss 1.1712, time 29.60ms, mfu 16.29%\n",
            "iter 1800: loss 1.1034, time 29.42ms, mfu 16.41%\n",
            "iter 1810: loss 1.0203, time 29.43ms, mfu 16.52%\n",
            "iter 1820: loss 1.0756, time 29.42ms, mfu 16.62%\n",
            "iter 1830: loss 1.0060, time 29.36ms, mfu 16.71%\n",
            "iter 1840: loss 1.0313, time 29.49ms, mfu 16.79%\n",
            "iter 1850: loss 0.9861, time 29.42ms, mfu 16.86%\n",
            "iter 1860: loss 1.0091, time 29.43ms, mfu 16.93%\n",
            "iter 1870: loss 0.9268, time 29.42ms, mfu 16.99%\n",
            "iter 1880: loss 0.9889, time 29.29ms, mfu 17.05%\n",
            "iter 1890: loss 1.0046, time 29.39ms, mfu 17.10%\n",
            "iter 1900: loss 0.9937, time 29.44ms, mfu 17.14%\n",
            "iter 1910: loss 0.9468, time 29.62ms, mfu 17.16%\n",
            "iter 1920: loss 1.0395, time 29.42ms, mfu 17.20%\n",
            "iter 1930: loss 0.9718, time 29.57ms, mfu 17.22%\n",
            "iter 1940: loss 0.9824, time 29.55ms, mfu 17.24%\n",
            "iter 1950: loss 0.9062, time 29.46ms, mfu 17.27%\n",
            "iter 1960: loss 0.9494, time 29.52ms, mfu 17.29%\n",
            "iter 1970: loss 0.9246, time 29.34ms, mfu 17.32%\n",
            "iter 1980: loss 0.9052, time 29.44ms, mfu 17.34%\n",
            "iter 1990: loss 0.9114, time 29.40ms, mfu 17.36%\n",
            "step 2000: train loss 0.5127, val loss 7.5047\n",
            "saving checkpoint to out\n",
            "iter 2000: loss 0.9066, time 4350.41ms, mfu 15.63%\n",
            "iter 2010: loss 0.9250, time 29.42ms, mfu 15.82%\n",
            "iter 2020: loss 0.8884, time 29.40ms, mfu 15.99%\n",
            "iter 2030: loss 0.8493, time 29.36ms, mfu 16.15%\n",
            "iter 2040: loss 0.8002, time 28.49ms, mfu 16.34%\n",
            "iter 2050: loss 0.8680, time 29.40ms, mfu 16.46%\n",
            "iter 2060: loss 0.8645, time 29.39ms, mfu 16.57%\n",
            "iter 2070: loss 0.8133, time 29.45ms, mfu 16.66%\n",
            "iter 2080: loss 0.8403, time 29.39ms, mfu 16.75%\n",
            "iter 2090: loss 0.8033, time 29.39ms, mfu 16.83%\n",
            "iter 2100: loss 0.8650, time 29.42ms, mfu 16.90%\n",
            "iter 2110: loss 0.8528, time 29.54ms, mfu 16.95%\n",
            "iter 2120: loss 0.8697, time 29.42ms, mfu 17.01%\n",
            "iter 2130: loss 0.8390, time 29.41ms, mfu 17.06%\n",
            "iter 2140: loss 0.8669, time 29.42ms, mfu 17.11%\n",
            "iter 2150: loss 0.7773, time 29.41ms, mfu 17.15%\n",
            "iter 2160: loss 0.7737, time 29.40ms, mfu 17.19%\n",
            "iter 2170: loss 0.8683, time 29.42ms, mfu 17.22%\n",
            "iter 2180: loss 0.8401, time 29.44ms, mfu 17.25%\n",
            "iter 2190: loss 0.8073, time 29.44ms, mfu 17.28%\n",
            "iter 2200: loss 0.7555, time 29.40ms, mfu 17.30%\n",
            "iter 2210: loss 0.7701, time 29.42ms, mfu 17.32%\n",
            "iter 2220: loss 0.7956, time 29.41ms, mfu 17.34%\n",
            "iter 2230: loss 0.7578, time 29.41ms, mfu 17.36%\n",
            "iter 2240: loss 0.7423, time 29.31ms, mfu 17.38%\n",
            "step 2250: train loss 0.3937, val loss 7.7760\n",
            "saving checkpoint to out\n",
            "iter 2250: loss 0.7729, time 4184.52ms, mfu 15.66%\n",
            "iter 2260: loss 0.7493, time 29.47ms, mfu 15.84%\n",
            "iter 2270: loss 0.6892, time 29.41ms, mfu 16.01%\n",
            "iter 2280: loss 0.6914, time 29.42ms, mfu 16.16%\n",
            "iter 2290: loss 0.7192, time 29.44ms, mfu 16.30%\n",
            "iter 2300: loss 0.7583, time 29.39ms, mfu 16.42%\n",
            "iter 2310: loss 0.7086, time 29.36ms, mfu 16.53%\n",
            "iter 2320: loss 0.7261, time 29.39ms, mfu 16.63%\n",
            "iter 2330: loss 0.6976, time 29.40ms, mfu 16.72%\n",
            "iter 2340: loss 0.7296, time 29.44ms, mfu 16.80%\n",
            "iter 2350: loss 0.7261, time 29.40ms, mfu 16.87%\n",
            "iter 2360: loss 0.7459, time 29.40ms, mfu 16.94%\n",
            "iter 2370: loss 0.7236, time 29.40ms, mfu 17.00%\n",
            "iter 2380: loss 0.6635, time 29.45ms, mfu 17.05%\n",
            "iter 2390: loss 0.7092, time 29.45ms, mfu 17.10%\n",
            "iter 2400: loss 0.6710, time 29.40ms, mfu 17.14%\n",
            "iter 2410: loss 0.8137, time 38.95ms, mfu 16.75%\n",
            "iter 2420: loss 0.6599, time 29.44ms, mfu 16.82%\n",
            "iter 2430: loss 0.6460, time 29.41ms, mfu 16.89%\n",
            "iter 2440: loss 0.6725, time 29.44ms, mfu 16.96%\n",
            "iter 2450: loss 0.6620, time 29.39ms, mfu 17.01%\n",
            "iter 2460: loss 0.5923, time 29.41ms, mfu 17.07%\n",
            "iter 2470: loss 0.6544, time 29.42ms, mfu 17.11%\n",
            "iter 2480: loss 0.6656, time 29.46ms, mfu 17.15%\n",
            "iter 2490: loss 0.6407, time 29.35ms, mfu 17.19%\n",
            "step 2500: train loss 0.3043, val loss 8.0419\n",
            "saving checkpoint to out\n",
            "iter 2500: loss 0.6559, time 4167.91ms, mfu 15.48%\n",
            "iter 2510: loss 0.5844, time 29.41ms, mfu 15.69%\n",
            "iter 2520: loss 0.6148, time 29.45ms, mfu 15.87%\n",
            "iter 2530: loss 0.5519, time 29.38ms, mfu 16.04%\n",
            "iter 2540: loss 0.6832, time 29.35ms, mfu 16.19%\n",
            "iter 2550: loss 0.5956, time 29.51ms, mfu 16.32%\n",
            "iter 2560: loss 0.5869, time 29.50ms, mfu 16.43%\n",
            "iter 2570: loss 0.6527, time 29.44ms, mfu 16.54%\n",
            "iter 2580: loss 0.6420, time 29.38ms, mfu 16.64%\n",
            "iter 2590: loss 0.5662, time 29.41ms, mfu 16.73%\n",
            "iter 2600: loss 0.5959, time 29.40ms, mfu 16.81%\n",
            "iter 2610: loss 0.6201, time 29.48ms, mfu 16.88%\n",
            "iter 2620: loss 0.5879, time 29.34ms, mfu 16.95%\n",
            "iter 2630: loss 0.5631, time 29.36ms, mfu 17.01%\n",
            "iter 2640: loss 0.5740, time 29.46ms, mfu 17.06%\n",
            "iter 2650: loss 0.5751, time 29.41ms, mfu 17.10%\n",
            "iter 2660: loss 0.5815, time 29.38ms, mfu 17.15%\n",
            "iter 2670: loss 0.5664, time 29.41ms, mfu 17.18%\n",
            "iter 2680: loss 0.6088, time 29.41ms, mfu 17.22%\n",
            "iter 2690: loss 0.5948, time 29.46ms, mfu 17.25%\n",
            "iter 2700: loss 0.5359, time 29.47ms, mfu 17.27%\n",
            "iter 2710: loss 0.5737, time 29.42ms, mfu 17.30%\n",
            "iter 2720: loss 0.5685, time 29.52ms, mfu 17.31%\n",
            "iter 2730: loss 0.5118, time 29.47ms, mfu 17.33%\n",
            "iter 2740: loss 0.5068, time 29.24ms, mfu 17.36%\n",
            "step 2750: train loss 0.2357, val loss 8.2383\n",
            "saving checkpoint to out\n",
            "iter 2750: loss 0.5665, time 4190.67ms, mfu 15.64%\n",
            "iter 2760: loss 0.5891, time 29.44ms, mfu 15.82%\n",
            "iter 2770: loss 0.4819, time 29.31ms, mfu 16.00%\n",
            "iter 2780: loss 0.5568, time 29.40ms, mfu 16.15%\n",
            "iter 2790: loss 0.4905, time 29.49ms, mfu 16.29%\n",
            "iter 2800: loss 0.5224, time 29.38ms, mfu 16.41%\n",
            "iter 2810: loss 0.5566, time 29.39ms, mfu 16.52%\n",
            "iter 2820: loss 0.4868, time 29.43ms, mfu 16.62%\n",
            "iter 2830: loss 0.4729, time 29.41ms, mfu 16.71%\n",
            "iter 2840: loss 0.5107, time 29.40ms, mfu 16.80%\n",
            "iter 2850: loss 0.4745, time 29.38ms, mfu 16.87%\n",
            "iter 2860: loss 0.4757, time 29.43ms, mfu 16.93%\n",
            "iter 2870: loss 0.5044, time 29.46ms, mfu 16.99%\n",
            "iter 2880: loss 0.4737, time 29.42ms, mfu 17.04%\n",
            "iter 2890: loss 0.4724, time 29.42ms, mfu 17.09%\n",
            "iter 2900: loss 0.4655, time 29.41ms, mfu 17.13%\n",
            "iter 2910: loss 0.4395, time 29.44ms, mfu 17.17%\n",
            "iter 2920: loss 0.4593, time 29.41ms, mfu 17.21%\n",
            "iter 2930: loss 0.5187, time 29.39ms, mfu 17.24%\n",
            "iter 2940: loss 0.4924, time 29.37ms, mfu 17.27%\n",
            "iter 2950: loss 0.4823, time 29.45ms, mfu 17.29%\n",
            "iter 2960: loss 0.4549, time 29.45ms, mfu 17.31%\n",
            "iter 2970: loss 0.4603, time 29.45ms, mfu 17.33%\n",
            "iter 2980: loss 0.4574, time 29.44ms, mfu 17.35%\n",
            "iter 2990: loss 0.4463, time 29.40ms, mfu 17.37%\n",
            "step 3000: train loss 0.1866, val loss 8.4701\n",
            "saving checkpoint to out\n",
            "iter 3000: loss 0.4527, time 4195.22ms, mfu 15.64%\n",
            "iter 3010: loss 0.4702, time 29.55ms, mfu 15.82%\n",
            "iter 3020: loss 0.4457, time 29.45ms, mfu 15.99%\n",
            "iter 3030: loss 0.4531, time 29.43ms, mfu 16.14%\n",
            "iter 3040: loss 0.4703, time 29.42ms, mfu 16.28%\n",
            "iter 3050: loss 0.4395, time 29.47ms, mfu 16.40%\n",
            "iter 3060: loss 0.4310, time 29.43ms, mfu 16.51%\n",
            "iter 3070: loss 0.4187, time 29.49ms, mfu 16.61%\n",
            "iter 3080: loss 0.4213, time 29.35ms, mfu 16.71%\n",
            "iter 3090: loss 0.3818, time 29.43ms, mfu 16.79%\n",
            "iter 3100: loss 0.4366, time 29.43ms, mfu 16.86%\n",
            "iter 3110: loss 0.4328, time 31.21ms, mfu 16.82%\n",
            "iter 3120: loss 0.4392, time 29.42ms, mfu 16.89%\n",
            "iter 3130: loss 0.4587, time 29.47ms, mfu 16.95%\n",
            "iter 3140: loss 0.4536, time 29.45ms, mfu 17.01%\n",
            "iter 3150: loss 0.4335, time 29.42ms, mfu 17.06%\n",
            "iter 3160: loss 0.3829, time 29.48ms, mfu 17.10%\n",
            "iter 3170: loss 0.4273, time 29.39ms, mfu 17.15%\n",
            "iter 3180: loss 0.3841, time 29.37ms, mfu 17.19%\n",
            "iter 3190: loss 0.4107, time 29.42ms, mfu 17.22%\n",
            "iter 3200: loss 0.4200, time 29.41ms, mfu 17.25%\n",
            "iter 3210: loss 0.4401, time 29.41ms, mfu 17.28%\n",
            "iter 3220: loss 0.3608, time 29.42ms, mfu 17.30%\n",
            "iter 3230: loss 0.4273, time 28.97ms, mfu 17.35%\n",
            "iter 3240: loss 0.3856, time 29.56ms, mfu 17.36%\n",
            "step 3250: train loss 0.1549, val loss 8.5517\n",
            "saving checkpoint to out\n",
            "iter 3250: loss 0.4174, time 4192.84ms, mfu 15.64%\n",
            "iter 3260: loss 0.3637, time 29.37ms, mfu 15.83%\n",
            "iter 3270: loss 0.3664, time 29.38ms, mfu 16.00%\n",
            "iter 3280: loss 0.3778, time 29.46ms, mfu 16.15%\n",
            "iter 3290: loss 0.3566, time 29.46ms, mfu 16.28%\n",
            "iter 3300: loss 0.3921, time 29.40ms, mfu 16.41%\n",
            "iter 3310: loss 0.3788, time 29.83ms, mfu 16.50%\n",
            "iter 3320: loss 0.3700, time 29.44ms, mfu 16.60%\n",
            "iter 3330: loss 0.3922, time 29.45ms, mfu 16.69%\n",
            "iter 3340: loss 0.4113, time 29.42ms, mfu 16.77%\n",
            "iter 3350: loss 0.3805, time 29.37ms, mfu 16.85%\n",
            "iter 3360: loss 0.3953, time 29.46ms, mfu 16.91%\n",
            "iter 3370: loss 0.3596, time 29.44ms, mfu 16.97%\n",
            "iter 3380: loss 0.3813, time 29.44ms, mfu 17.03%\n",
            "iter 3390: loss 0.3684, time 29.43ms, mfu 17.08%\n",
            "iter 3400: loss 0.3370, time 29.41ms, mfu 17.12%\n",
            "iter 3410: loss 0.3806, time 29.44ms, mfu 17.16%\n",
            "iter 3420: loss 0.3577, time 29.50ms, mfu 17.19%\n",
            "iter 3430: loss 0.3709, time 29.42ms, mfu 17.22%\n",
            "iter 3440: loss 0.3348, time 29.46ms, mfu 17.25%\n",
            "iter 3450: loss 0.3409, time 29.46ms, mfu 17.28%\n",
            "iter 3460: loss 0.3531, time 29.42ms, mfu 17.30%\n",
            "iter 3470: loss 0.3270, time 29.40ms, mfu 17.32%\n",
            "iter 3480: loss 0.3291, time 29.34ms, mfu 17.35%\n",
            "iter 3490: loss 0.3311, time 29.46ms, mfu 17.36%\n",
            "step 3500: train loss 0.1281, val loss 8.7052\n",
            "saving checkpoint to out\n",
            "iter 3500: loss 0.3151, time 4174.22ms, mfu 15.64%\n",
            "iter 3510: loss 0.3140, time 29.39ms, mfu 15.83%\n",
            "iter 3520: loss 0.3630, time 21.70ms, mfu 16.62%\n",
            "iter 3530: loss 0.2961, time 29.43ms, mfu 16.71%\n",
            "iter 3540: loss 0.3170, time 29.41ms, mfu 16.79%\n",
            "iter 3550: loss 0.3075, time 29.48ms, mfu 16.86%\n",
            "iter 3560: loss 0.3294, time 29.58ms, mfu 16.92%\n",
            "iter 3570: loss 0.3306, time 29.52ms, mfu 16.97%\n",
            "iter 3580: loss 0.3283, time 29.41ms, mfu 17.03%\n",
            "iter 3590: loss 0.3097, time 29.45ms, mfu 17.07%\n",
            "iter 3600: loss 0.3262, time 29.42ms, mfu 17.12%\n",
            "iter 3610: loss 0.3150, time 29.54ms, mfu 17.15%\n",
            "iter 3620: loss 0.3214, time 29.39ms, mfu 17.19%\n",
            "iter 3630: loss 0.3160, time 29.45ms, mfu 17.22%\n",
            "iter 3640: loss 0.3011, time 29.44ms, mfu 17.25%\n",
            "iter 3650: loss 0.3106, time 29.39ms, mfu 17.28%\n",
            "iter 3660: loss 0.2811, time 29.43ms, mfu 17.30%\n",
            "iter 3670: loss 0.2952, time 29.50ms, mfu 17.32%\n",
            "iter 3680: loss 0.3337, time 29.44ms, mfu 17.34%\n",
            "iter 3690: loss 0.3109, time 29.49ms, mfu 17.35%\n",
            "iter 3700: loss 0.2962, time 29.41ms, mfu 17.37%\n",
            "iter 3710: loss 0.2871, time 29.43ms, mfu 17.38%\n",
            "iter 3720: loss 0.2843, time 29.45ms, mfu 17.40%\n",
            "iter 3730: loss 0.2919, time 30.01ms, mfu 17.37%\n",
            "iter 3740: loss 0.3030, time 29.36ms, mfu 17.39%\n",
            "step 3750: train loss 0.1104, val loss 8.7490\n",
            "saving checkpoint to out\n",
            "iter 3750: loss 0.3095, time 4185.62ms, mfu 15.67%\n",
            "iter 3760: loss 0.3103, time 29.57ms, mfu 15.84%\n",
            "iter 3770: loss 0.2935, time 29.48ms, mfu 16.01%\n",
            "iter 3780: loss 0.2944, time 29.42ms, mfu 16.16%\n",
            "iter 3790: loss 0.2907, time 29.42ms, mfu 16.29%\n",
            "iter 3800: loss 0.2970, time 29.38ms, mfu 16.42%\n",
            "iter 3810: loss 0.2895, time 29.38ms, mfu 16.53%\n",
            "iter 3820: loss 0.2888, time 29.37ms, mfu 16.63%\n",
            "iter 3830: loss 0.2961, time 29.42ms, mfu 16.72%\n",
            "iter 3840: loss 0.2584, time 29.40ms, mfu 16.80%\n",
            "iter 3850: loss 0.2862, time 29.44ms, mfu 16.87%\n",
            "iter 3860: loss 0.2596, time 29.39ms, mfu 16.94%\n",
            "iter 3870: loss 0.2793, time 29.39ms, mfu 17.00%\n",
            "iter 3880: loss 0.2674, time 29.43ms, mfu 17.05%\n",
            "iter 3890: loss 0.2767, time 29.59ms, mfu 17.09%\n",
            "iter 3900: loss 0.2753, time 29.38ms, mfu 17.13%\n",
            "iter 3910: loss 0.2665, time 29.41ms, mfu 17.17%\n",
            "iter 3920: loss 0.2747, time 29.16ms, mfu 17.22%\n",
            "iter 3930: loss 0.2583, time 29.46ms, mfu 17.25%\n",
            "iter 3940: loss 0.2610, time 29.42ms, mfu 17.28%\n",
            "iter 3950: loss 0.2796, time 29.43ms, mfu 17.30%\n",
            "iter 3960: loss 0.2612, time 29.41ms, mfu 17.32%\n",
            "iter 3970: loss 0.2498, time 29.56ms, mfu 17.33%\n",
            "iter 3980: loss 0.2425, time 29.49ms, mfu 17.35%\n",
            "iter 3990: loss 0.2391, time 29.29ms, mfu 17.37%\n",
            "step 4000: train loss 0.0999, val loss 8.8882\n",
            "saving checkpoint to out\n",
            "iter 4000: loss 0.2590, time 4168.06ms, mfu 15.65%\n",
            "iter 4010: loss 0.2391, time 29.37ms, mfu 15.84%\n",
            "iter 4020: loss 0.2581, time 29.45ms, mfu 16.01%\n",
            "iter 4030: loss 0.2553, time 29.40ms, mfu 16.16%\n",
            "iter 4040: loss 0.2490, time 19.96ms, mfu 17.12%\n",
            "iter 4050: loss 0.2643, time 29.41ms, mfu 17.16%\n",
            "iter 4060: loss 0.2705, time 29.41ms, mfu 17.20%\n",
            "iter 4070: loss 0.2637, time 29.37ms, mfu 17.24%\n",
            "iter 4080: loss 0.2601, time 29.35ms, mfu 17.27%\n",
            "iter 4090: loss 0.2740, time 29.40ms, mfu 17.29%\n",
            "iter 4100: loss 0.2493, time 29.48ms, mfu 17.31%\n",
            "iter 4110: loss 0.2337, time 29.43ms, mfu 17.33%\n",
            "iter 4120: loss 0.2552, time 29.43ms, mfu 17.35%\n",
            "iter 4130: loss 0.2607, time 30.03ms, mfu 17.33%\n",
            "iter 4140: loss 0.2706, time 29.46ms, mfu 17.35%\n",
            "iter 4150: loss 0.2673, time 29.40ms, mfu 17.37%\n",
            "iter 4160: loss 0.2555, time 29.41ms, mfu 17.38%\n",
            "iter 4170: loss 0.2268, time 29.38ms, mfu 17.40%\n",
            "iter 4180: loss 0.2496, time 29.60ms, mfu 17.40%\n",
            "iter 4190: loss 0.2469, time 29.48ms, mfu 17.41%\n",
            "iter 4200: loss 0.2703, time 29.43ms, mfu 17.42%\n",
            "iter 4210: loss 0.2517, time 29.40ms, mfu 17.43%\n",
            "iter 4220: loss 0.2457, time 29.46ms, mfu 17.44%\n",
            "iter 4230: loss 0.2378, time 29.41ms, mfu 17.45%\n",
            "iter 4240: loss 0.2559, time 29.29ms, mfu 17.46%\n",
            "step 4250: train loss 0.0902, val loss 8.9931\n",
            "saving checkpoint to out\n",
            "iter 4250: loss 0.2358, time 4174.40ms, mfu 15.73%\n",
            "iter 4260: loss 0.2338, time 29.50ms, mfu 15.90%\n",
            "iter 4270: loss 0.2418, time 29.38ms, mfu 16.07%\n",
            "iter 4280: loss 0.2648, time 29.40ms, mfu 16.21%\n",
            "iter 4290: loss 0.2147, time 29.42ms, mfu 16.34%\n",
            "iter 4300: loss 0.2381, time 29.39ms, mfu 16.46%\n",
            "iter 4310: loss 0.2269, time 29.40ms, mfu 16.57%\n",
            "iter 4320: loss 0.2286, time 29.49ms, mfu 16.66%\n",
            "iter 4330: loss 0.2340, time 29.66ms, mfu 16.73%\n",
            "iter 4340: loss 0.2531, time 29.43ms, mfu 16.81%\n",
            "iter 4350: loss 0.2247, time 29.63ms, mfu 16.87%\n",
            "iter 4360: loss 0.2325, time 29.41ms, mfu 16.93%\n",
            "iter 4370: loss 0.2198, time 29.40ms, mfu 16.99%\n",
            "iter 4380: loss 0.2010, time 29.39ms, mfu 17.05%\n",
            "iter 4390: loss 0.2158, time 29.47ms, mfu 17.09%\n",
            "iter 4400: loss 0.1981, time 29.38ms, mfu 17.14%\n",
            "iter 4410: loss 0.2216, time 29.42ms, mfu 17.18%\n",
            "iter 4420: loss 0.2354, time 29.36ms, mfu 17.21%\n",
            "iter 4430: loss 0.2311, time 29.21ms, mfu 17.26%\n",
            "iter 4440: loss 0.2068, time 29.38ms, mfu 17.29%\n",
            "iter 4450: loss 0.2232, time 29.40ms, mfu 17.31%\n",
            "iter 4460: loss 0.2132, time 29.31ms, mfu 17.34%\n",
            "iter 4470: loss 0.2227, time 29.38ms, mfu 17.36%\n",
            "iter 4480: loss 0.1963, time 29.41ms, mfu 17.38%\n",
            "iter 4490: loss 0.2113, time 29.51ms, mfu 17.39%\n",
            "step 4500: train loss 0.0833, val loss 8.9886\n",
            "saving checkpoint to out\n",
            "iter 4500: loss 0.2383, time 4186.09ms, mfu 15.66%\n",
            "iter 4510: loss 0.2366, time 29.37ms, mfu 15.85%\n",
            "iter 4520: loss 0.2420, time 29.39ms, mfu 16.02%\n",
            "iter 4530: loss 0.2156, time 29.46ms, mfu 16.16%\n",
            "iter 4540: loss 0.2187, time 29.47ms, mfu 16.30%\n",
            "iter 4550: loss 0.1899, time 29.39ms, mfu 16.42%\n",
            "iter 4560: loss 0.2189, time 29.46ms, mfu 16.53%\n",
            "iter 4570: loss 0.2267, time 29.40ms, mfu 16.63%\n",
            "iter 4580: loss 0.2190, time 29.39ms, mfu 16.72%\n",
            "iter 4590: loss 0.2320, time 29.43ms, mfu 16.80%\n",
            "iter 4600: loss 0.2287, time 29.45ms, mfu 16.87%\n",
            "iter 4610: loss 0.2184, time 29.56ms, mfu 16.93%\n",
            "iter 4620: loss 0.2009, time 29.43ms, mfu 16.99%\n",
            "iter 4630: loss 0.2252, time 29.46ms, mfu 17.04%\n",
            "iter 4640: loss 0.1945, time 29.36ms, mfu 17.09%\n",
            "iter 4650: loss 0.2087, time 29.41ms, mfu 17.13%\n",
            "iter 4660: loss 0.2089, time 29.47ms, mfu 17.17%\n",
            "iter 4670: loss 0.2230, time 29.38ms, mfu 17.21%\n",
            "iter 4680: loss 0.2326, time 29.42ms, mfu 17.24%\n",
            "iter 4690: loss 0.2265, time 29.43ms, mfu 17.26%\n",
            "iter 4700: loss 0.1984, time 29.45ms, mfu 17.29%\n",
            "iter 4710: loss 0.1951, time 29.46ms, mfu 17.31%\n",
            "iter 4720: loss 0.2009, time 29.43ms, mfu 17.33%\n",
            "iter 4730: loss 0.2313, time 29.45ms, mfu 17.35%\n",
            "iter 4740: loss 0.2256, time 29.31ms, mfu 17.37%\n",
            "step 4750: train loss 0.0797, val loss 9.0839\n",
            "saving checkpoint to out\n",
            "iter 4750: loss 0.1984, time 4186.69ms, mfu 15.65%\n",
            "iter 4760: loss 0.2281, time 29.44ms, mfu 15.83%\n",
            "iter 4770: loss 0.2096, time 29.40ms, mfu 16.00%\n",
            "iter 4780: loss 0.1886, time 29.36ms, mfu 16.16%\n",
            "iter 4790: loss 0.1882, time 29.42ms, mfu 16.29%\n",
            "iter 4800: loss 0.2000, time 29.41ms, mfu 16.42%\n",
            "iter 4810: loss 0.1859, time 29.45ms, mfu 16.53%\n",
            "iter 4820: loss 0.1938, time 29.42ms, mfu 16.63%\n",
            "iter 4830: loss 0.2091, time 29.38ms, mfu 16.72%\n",
            "iter 4840: loss 0.2017, time 29.41ms, mfu 16.80%\n",
            "iter 4850: loss 0.1857, time 29.46ms, mfu 16.87%\n",
            "iter 4860: loss 0.2069, time 29.41ms, mfu 16.93%\n",
            "iter 4870: loss 0.1988, time 29.41ms, mfu 16.99%\n",
            "iter 4880: loss 0.1817, time 29.46ms, mfu 17.04%\n",
            "iter 4890: loss 0.2135, time 29.40ms, mfu 17.09%\n",
            "iter 4900: loss 0.1973, time 29.50ms, mfu 17.13%\n",
            "iter 4910: loss 0.2021, time 29.39ms, mfu 17.17%\n",
            "iter 4920: loss 0.1997, time 29.40ms, mfu 17.21%\n",
            "iter 4930: loss 0.1753, time 29.48ms, mfu 17.23%\n",
            "iter 4940: loss 0.1954, time 29.42ms, mfu 17.26%\n",
            "iter 4950: loss 0.1995, time 29.52ms, mfu 17.28%\n",
            "iter 4960: loss 0.2067, time 29.42ms, mfu 17.31%\n",
            "iter 4970: loss 0.1846, time 29.43ms, mfu 17.33%\n",
            "iter 4980: loss 0.2141, time 29.53ms, mfu 17.34%\n",
            "iter 4990: loss 0.1898, time 29.30ms, mfu 17.37%\n",
            "step 5000: train loss 0.0759, val loss 9.1495\n",
            "saving checkpoint to out\n",
            "iter 5000: loss 0.1861, time 4171.96ms, mfu 15.64%\n"
          ]
        }
      ]
    },
    {
      "cell_type": "markdown",
      "source": [
        "## Generating Outputs with our New Model\n",
        "\n",
        "Now we can leverage the `sample.py` file to generate outputs from our model!"
      ],
      "metadata": {
        "id": "L2J5JlRxFJOM"
      }
    },
    {
      "cell_type": "markdown",
      "source": [
        "### Generation Set Up and Model Loading"
      ],
      "metadata": {
        "id": "eo_QP1ITFfX2"
      }
    },
    {
      "cell_type": "code",
      "source": [
        "import os\n",
        "import pickle\n",
        "from contextlib import nullcontext\n",
        "import torch\n",
        "import tiktoken\n",
        "from model import GPTConfig, GPT\n",
        "\n",
        "# -----------------------------------------------------------------------------\n",
        "init_from = 'resume' # either 'resume' (from an out_dir) or a gpt2 variant (e.g. 'gpt2-xl')\n",
        "out_dir = 'out' # ignored if init_from is not 'resume'\n",
        "start = \"\\n\" # or \"<|endoftext|>\" or etc. Can also specify a file, use as: \"FILE:prompt.txt\"\n",
        "num_samples = 10 # number of samples to draw\n",
        "max_new_tokens = 500 # number of tokens generated in each sample\n",
        "temperature = 0.8 # 1.0 = no change, < 1.0 = less random, > 1.0 = more random, in predictions\n",
        "top_k = 200 # retain only the top_k most likely tokens, clamp others to have 0 probability\n",
        "seed = 1337\n",
        "device = 'cuda' # examples: 'cpu', 'cuda', 'cuda:0', 'cuda:1', etc.\n",
        "dtype = 'bfloat16' if torch.cuda.is_available() and torch.cuda.is_bf16_supported() else 'float16' # 'float32' or 'bfloat16' or 'float16'\n",
        "compile = False # use PyTorch 2.0 to compile the model to be faster\n",
        "# -----------------------------------------------------------------------------\n",
        "\n",
        "torch.manual_seed(seed)\n",
        "torch.cuda.manual_seed(seed)\n",
        "torch.backends.cuda.matmul.allow_tf32 = True # allow tf32 on matmul\n",
        "torch.backends.cudnn.allow_tf32 = True # allow tf32 on cudnn\n",
        "device_type = 'cuda' if 'cuda' in device else 'cpu' # for later use in torch.autocast\n",
        "ptdtype = {'float32': torch.float32, 'bfloat16': torch.bfloat16, 'float16': torch.float16}[dtype]\n",
        "ctx = nullcontext() if device_type == 'cpu' else torch.amp.autocast(device_type=device_type, dtype=ptdtype)"
      ],
      "metadata": {
        "id": "-vftqU9LheEK"
      },
      "execution_count": 67,
      "outputs": []
    },
    {
      "cell_type": "code",
      "source": [
        "# model\n",
        "if init_from == 'resume':\n",
        "    # init from a model saved in a specific directory\n",
        "    ckpt_path = os.path.join(out_dir, 'ckpt.pt')\n",
        "    checkpoint = torch.load(ckpt_path, map_location=device)\n",
        "    gptconf = GPTConfig(**checkpoint['model_args'])\n",
        "    model = GPT(gptconf)\n",
        "    state_dict = checkpoint['model']\n",
        "    unwanted_prefix = '_orig_mod.'\n",
        "    for k,v in list(state_dict.items()):\n",
        "        if k.startswith(unwanted_prefix):\n",
        "            state_dict[k[len(unwanted_prefix):]] = state_dict.pop(k)\n",
        "    model.load_state_dict(state_dict)"
      ],
      "metadata": {
        "colab": {
          "base_uri": "https://localhost:8080/"
        },
        "id": "FQRB3j7iiNkl",
        "outputId": "d0783695-023d-49d1-c6d9-bbd9f3e13ed5"
      },
      "execution_count": 68,
      "outputs": [
        {
          "output_type": "stream",
          "name": "stdout",
          "text": [
            "number of parameters: 29.55M\n"
          ]
        }
      ]
    },
    {
      "cell_type": "code",
      "source": [
        "model.eval()\n",
        "model.to(device)\n",
        "if compile:\n",
        "    model = torch.compile(model) # requires PyTorch 2.0 (optional)"
      ],
      "metadata": {
        "id": "N1YAy8DriVZZ"
      },
      "execution_count": 69,
      "outputs": []
    },
    {
      "cell_type": "code",
      "source": [
        "enc = tokenizer\n",
        "encode = lambda s: enc.encode(s)\n",
        "decode = lambda l: enc.decode(l)"
      ],
      "metadata": {
        "id": "KoB-5ZuLicAT"
      },
      "execution_count": 70,
      "outputs": []
    },
    {
      "cell_type": "markdown",
      "source": [
        "### Generation!"
      ],
      "metadata": {
        "id": "mkTQ9wo7FjYU"
      }
    },
    {
      "cell_type": "code",
      "source": [
        "# encode the beginning of the prompt\n",
        "if start.startswith('FILE:'):\n",
        "    with open(start[5:], 'r', encoding='utf-8') as f:\n",
        "        start = f.read()\n",
        "start_ids = encode(start)\n",
        "x = (torch.tensor(start_ids, dtype=torch.long, device=device)[None, ...])\n",
        "\n",
        "# run generation\n",
        "with torch.no_grad():\n",
        "    with ctx:\n",
        "        for k in range(num_samples):\n",
        "            y = model.generate(x, max_new_tokens, temperature=temperature, top_k=top_k)\n",
        "            print(decode(y[0].tolist()))\n",
        "            print('---------------')"
      ],
      "metadata": {
        "colab": {
          "base_uri": "https://localhost:8080/"
        },
        "id": "NmTcaHCjii5l",
        "outputId": "db0a1eaf-0a17-4dc6-cbee-bbc61ce69fbe"
      },
      "execution_count": 71,
      "outputs": [
        {
          "output_type": "stream",
          "name": "stdout",
          "text": [
            "\n",
            "And therefore be thy deeds,\n",
            "On both my lance; for Rutland, and Montague,\n",
            "And all the trouble thou environ'd with a brazen wall.\n",
            "\n",
            "CLIFFORD:\n",
            "Now, Richard, I am with thee here alone:\n",
            "This is the hand that stabb'd thy father York;\n",
            "And this the hand that slew thy brother Rutland;\n",
            "And here's the heart that triumphs in their death\n",
            "And cheers these hands that slew thy sire and brother\n",
            "To execute the like upon thyself;\n",
            "And so, have at thee!\n",
            "\n",
            "RICHARD:\n",
            "Nay Warwick, single out some other chase;\n",
            "For I myself will hunt this wolf to death.\n",
            "3 KING HENRY VI\n",
            "\n",
            "KING HENRY VI:\n",
            "This battle fares like to the morning's war,\n",
            "When dying clouds contend with growing light,\n",
            "What time the shepherd, blowing of his nails,\n",
            "Can neither call it perfect day nor night.\n",
            "Now sways it this way, like a mighty sea\n",
            "Forced by the tide to combat with the wind;\n",
            "Now sways it that way, like the selfsame sea\n",
            "Forced to retire by fury of the wind:\n",
            "Sometime the flood prevails, then the wind;\n",
            "Now one the better, then another best;\n",
            "Both tugging to be victors, breast to breast to breast to breast,\n",
            "Yet neither conqueror nor conquered:\n",
            "So is the equal of this fell war.\n",
            "Here on this fell war.\n",
            "Here on this molehill will I sit me down.\n",
            "To whom God will, there be the victory!\n",
            "For Margaret my queen, and Clifford too,\n",
            "Have chid me from the battle; swearing both\n",
            "They prosper best of all when I am thence.\n",
            "Would I were dead! if God's good will were so;\n",
            "For what is in this world but grief and woe?\n",
            "O God! methinks it were a happy life,\n",
            "To be no better than a homely swain;\n",
            "To sit upon a hill, as I do now,\n",
            "To carve out dials quaintly, point by point,\n",
            "Thereby to see the minutes how they run, point,\n",
            "How many make the hour full complete;\n",
            "How many hours bring about the day;\n",
            "How many days will finish up the year;\n",
            "How many years a mortal man may live.\n",
            "When this is known, then to divide the times:\n",
            "---------------\n",
            "\n",
            "JULIET:\n",
            "Romeo, come! what dost thou send him that thus forsworn?\n",
            "If I never shall be satisfied\n",
            "But to be satisfied\n",
            "LADY CAPULET:\n",
            "JULIET:\n",
            "Who is, that dost torment me thus bescreen'd in Mantua\n",
            "So stumblest on my counsel?\n",
            "\n",
            "ROMEO:\n",
            "I know not how to tell thee who I am:\n",
            "My name, dear saint, is hateful to myself,\n",
            "Because it is an enemy to thee;\n",
            "Had I it written, I would tear the word.\n",
            "\n",
            "JULIET:\n",
            "I would thou hast not yet I know the word.\n",
            "\n",
            "ROMEO:\n",
            "Then have not yet drunk a hundred words\n",
            "And yet I know the book.\n",
            "\n",
            "JULIET:\n",
            "Yet let me weep's see thee with much cherishing.\n",
            "Good night! parting is such\n",
            "sweet sorrow,\n",
            "That I shall say good night till it be morrow.\n",
            "\n",
            "ROMEO:\n",
            "Sleep dwell upon thine eyes, peace in thy breast!\n",
            "Would I were sleep and peace, so sweet to rest!\n",
            "Hence will I to my ghostly father's cell,\n",
            "His help to crave, and my dear hap to tell.\n",
            "\n",
            "FRIAR LAURENCE:\n",
            "The grey-eyed morn smiles on the frowning night,\n",
            "Chequering the eastern clouds with streaks of light,\n",
            "And flecked darkness like a drunkard reels\n",
            "From forth day's path and Titan's fiery wheels:\n",
            "Now, ere the sun advance his burning eye,\n",
            "The day to cheer and night's dank dew to dry,\n",
            "I must up-fill this osier cage of ours\n",
            "With baleful weeds and precious-juiced flowers.\n",
            "The earth that's mother is her tomb;\n",
            "What is her burying grave that is her womb,\n",
            "And from her womb children of divers kind\n",
            "We sucking on her natural bosom find,\n",
            "Many for many virtues excellent,\n",
            "None but for many virtues excellent,\n",
            "None but for some and yet all different.\n",
            "O, mickle is the powerful grace that lies\n",
            "In herbs, plants, stones, stones, and their true qualities:\n",
            "For nought so vile that on the earth doth live\n",
            "For nought so vile that on the earth doth live\n",
            "But to the earth some special good doth give,\n",
            "Nor aught so good but strain'd from that fair use\n",
            "R\n",
            "---------------\n",
            "\n",
            "ISABELLA:\n",
            "The one so medicine\n",
            "Be so, but for what it is,\n",
            "To be so my brother's life:\n",
            "Be perdurably fined? O Isabel!\n",
            "\n",
            "CLAUDIO:\n",
            "What says my brother?\n",
            "\n",
            "ISABELLA:\n",
            "Death is a fearful thing.\n",
            "\n",
            "CLAUDIO:\n",
            "Death is a fearful thing.\n",
            "\n",
            "ISABELLA:\n",
            "And shamed life a hateful.\n",
            "\n",
            "CLAUDIO:\n",
            "Ay, but to die, and go we know not where;\n",
            "To lie in cold obstruction and to rot;\n",
            "This sensible warm motion to become\n",
            "A kneaded clod; and the delighted spirit\n",
            "To bathe in fiery floods, or to reside\n",
            "In thrilling region of thick-ribbed ice;\n",
            "To be imprison'd in the viewless winds,\n",
            "And blown with restless violence round about\n",
            "The pendent world; or to be worse than worst\n",
            "Of those that lawless and incertain thought\n",
            "Imagine howling: 'tis too horrible!\n",
            "The weariest and most loathed worldly life\n",
            "That age, ache, penury and imprisonment\n",
            "Can lay on nature is a paradise\n",
            "To what we fear of death.\n",
            "\n",
            "ISABELLA:\n",
            "Alas, alas!\n",
            "\n",
            "CLAUDIO:\n",
            "Sweet sister, let me live:\n",
            "What sin you do to save a brother's life,\n",
            "Nature dispenses with the deed so far\n",
            "That it becomes a virtue.\n",
            "\n",
            "ISABELLA:\n",
            "O you beast!\n",
            "O faithless coward! O dishonest wretch!\n",
            "Wilt thou be made a man out of my vice?\n",
            "Is't not a kind of incest, to take life\n",
            "From thine own sister's shame? What should I think?\n",
            "Heaven shield my mother play'd my mother play'd my father fair!\n",
            "For such a warped slip of wilderness\n",
            "Ne'er issued from his blood. Take my defiance!\n",
            "Die, perish! Might but my bending down\n",
            "Reprieve thee from thy fate, it should proceed:\n",
            "I'll pray a thousand prayers for thy death,\n",
            "No word to save thee.\n",
            "\n",
            "CLAUDIO:\n",
            "Nay, Isabel, fie, fie, fie!\n",
            "Thy sin's not accidental, but a trade.\n",
            "Mercy to thee would prove itself a bawd:\n",
            "'Tis best thou diest quickly.\n",
            "\n",
            "CLAUDIO:\n",
            "O hear me, Isabella!\n",
            "---------------\n",
            "\n",
            "\n",
            "CORIOLANUS:\n",
            "Pray you now, your mother,\n",
            "Let them pronounce the steep Tarpeian death,\n",
            "Vagabond exile, raying, pent to linger\n",
            "But with a grain a day, I would not buy\n",
            "Their mercy at the price of one fair word;\n",
            "Nor cheque my courage for what they can give,\n",
            "To have't with saying 'Good morrow.'\n",
            "\n",
            "SICINIUS:\n",
            "For that he has,\n",
            "As much as in him lies, from time to time\n",
            "Envied against the people, seeking means\n",
            "To pluck away their power, as now at last\n",
            "Given hostile strokes, and that not in the presence\n",
            "Of dreaded justice, but on the ministers\n",
            "That do distribute it; in the people\n",
            "And in the power of us the power of us the tribunes,\n",
            "Even from this instant, banish him our city,\n",
            "In peril of precipitation\n",
            "From off the rock Tarpeian never more\n",
            "To enter our Rome gates: i' the people's name,\n",
            "I say it shall be so.\n",
            "\n",
            "Citizens:\n",
            "It shall be so, it shall be so; let him away:\n",
            "He's banish'd, and it shall be so.\n",
            "\n",
            "COMINIUS:\n",
            "Hear me, my masters, and my common friends,--\n",
            "\n",
            "SICINIUS:\n",
            "He's sentenced; no more hearing.\n",
            "\n",
            "COMINIUS:\n",
            "Let me speak:\n",
            "I have been consul, and can show for Rome\n",
            "Her enemies' marks upon me. I do love\n",
            "My country's good with a respect more tender,\n",
            "More holy and profound, than mine own life,\n",
            "My dear wife's estimate, her womb's increase,\n",
            "And treasure of my loins; then if I would\n",
            "Speak that,--\n",
            "\n",
            "SICINIUS:\n",
            "We know your drift: speak what?\n",
            "\n",
            "BRUTUS:\n",
            "There's no more to be said, but he is banish'd,\n",
            "As enemy to the people and his country:\n",
            "It shall be so.\n",
            "\n",
            "Citizens:\n",
            "It shall be so, it shall be so.\n",
            "\n",
            "CORIOLANUS:\n",
            "You common cry of curs! whose breath I hate\n",
            "As reek o' the rotten fens, whose loves I prize\n",
            "As the dead carcasses of unburied men\n",
            "That do corrupt my air, I banish you;\n",
            "And here remain with\n",
            "---------------\n",
            "\n",
            "And say there an hour before and thy youth\n",
            "To make thee remedy.\n",
            "\n",
            "PERDITA:\n",
            "So long could I have no,\n",
            "Stand not put thee.\n",
            "\n",
            "FLORIZEL:\n",
            "So call them speak\n",
            "Preserver of me the thorns we stand upon me\n",
            "With these two have but we are not.\n",
            "\n",
            "CAMILLO:\n",
            "My lord,\n",
            "But O, for Sicilia,\n",
            "Who does sit upon my best Sicilia,\n",
            "The medicine of our house, how shall we do?\n",
            "We are not furnish'd like Bohemia's son,\n",
            "Nor shall appear in Sicilia.\n",
            "\n",
            "AUTOLYCUS:\n",
            "I am appointed as if you know you know you know you know you knowHow soon?\n",
            "\n",
            "CAMILLO:\n",
            "Ha will seem to take it.\n",
            "\n",
            "AUTOLYCUS:\n",
            "I cannot hold you, ha: it is colouring.\n",
            "\n",
            "How fares our gracious lord?\n",
            "\n",
            "FLORIZEL:\n",
            "How fares our good?\n",
            "\n",
            "MOPSA:\n",
            "Even so great and thus\n",
            "Most dangerous a mistress as you.\n",
            "\n",
            "MOPSA:\n",
            "That neither be so; for the tune of 'tis not\n",
            "bur a word.\n",
            "\n",
            "DORCAS:\n",
            "MOPSA:\n",
            "Thou hast sworn it more to me:\n",
            "Thou wilt have thy secrets tell.\n",
            "\n",
            "Clown:\n",
            "Andeed, let me go buy and\n",
            "Me too:\n",
            "How if thou\n",
            "Is not now the reason?\n",
            "\n",
            "AUTOLYCUS:\n",
            "I hope so, sir?\n",
            "\n",
            "DORCAS:\n",
            "Meither.\n",
            "\n",
            "MOPSA:\n",
            "Or thou hast sworn my love to me:\n",
            "Then whither goest? say, whither?\n",
            "\n",
            "Clown:\n",
            "We'll have this song out anon by ourselves: my\n",
            "not trouble them. Come, bring away thy pack after\n",
            "me. Wenches, I'll buy for you both. Pedlar, let's\n",
            "have the first choice. Follow me, girls.\n",
            "AUTOLYCUS:\n",
            "And you shall pay well for 'em.\n",
            "Will you buy any tape,\n",
            "Or lace for your cape,\n",
            "My dainty duck, my dear-a?\n",
            "Any silk, any thread,\n",
            "Any toys for your head,\n",
            "Of the new'st and finest, finest wear-a? finest wear-a?\n",
            "Come\n",
            "---------------\n",
            "\n",
            "If you are most bright hair there's:\n",
            "You are the more of those so that feel:\n",
            "Which not a wrath, they make a wrath\n",
            "Upon my wretchedness unto a row of state;\n",
            "They are but pinn'd with wrath.\n",
            "\n",
            "First Citizen:\n",
            "The ground I fear; their bark, who doth hang themselves.\n",
            "\n",
            "Second Citizen:\n",
            "They fear us!\n",
            "\n",
            "Their noise of youth doth so trimm'd up and tears:\n",
            "As the bark and bark, the skin of our bark,\n",
            "Our people and quite thrown down.\n",
            "\n",
            "SICINIUS:\n",
            "Give, with us to the noise that the noise\n",
            "Let's to the noise of our ears,\n",
            "With that the noise of our territories,\n",
            "And made with the seat, so.\n",
            "\n",
            "MENENIUS:\n",
            "You made good success, I'll not meddle with him.\n",
            "\n",
            "SICINIUS:\n",
            "What do?\n",
            "MENENIUS:\n",
            "Hear me one word;\n",
            "For Rome, towards Marcius shall turn\n",
            "Return me one word.\n",
            "\n",
            "BRUTUS:\n",
            "But as Cominius is return'd,\n",
            "Unheard; what then?\n",
            "\n",
            "SICINIUS:\n",
            "Yet's to me say that thanks.\n",
            "\n",
            "MENENIUS:\n",
            "I'll undertake 't:\n",
            "I think he'll hear me. Yet, to bite his lip\n",
            "And hum at good Cominius, much unhearts me.\n",
            "He was not taken well; he had not dined:\n",
            "The veins unfill'd, our blood is cold, and then\n",
            "We pout upon the morning, are unapt\n",
            "To give or to forgive; but when we have stuff'd\n",
            "These and these conveyances of our blood\n",
            "With wine and feeding, we have suppler souls\n",
            "Than in our priest-like fasts: therefore I'll watch him\n",
            "Till he be dieted to my request,\n",
            "And then I'll set upon him.\n",
            "\n",
            "BRUTUS:\n",
            "You know the very road into his kindness,\n",
            "And cannot lose your way.\n",
            "\n",
            "MENENIUS:\n",
            "Good faith, I'll prove him,\n",
            "Speed how it will. I shall ere long have knowledge\n",
            "Of my success.\n",
            "\n",
            "COMINIUS:\n",
            "He'll never hear him.\n",
            "\n",
            "SICINIUS:\n",
            "Not?\n",
            "\n",
            "COMINIUS:\n",
            "I tell you, he does sit in\n",
            "---------------\n",
            "\n",
            "And he be a pack'd with them.\n",
            "But, we no less respect than he doth:\n",
            "'Tis he'll open it go:\n",
            "He's as like a thing of my son;\n",
            "And men are full of hope.\n",
            "\n",
            "First Murderer:\n",
            "Who made thee, then the king's,\n",
            "That I this will not kill'd.\n",
            "\n",
            "Second Murderer:\n",
            "And that he dies:\n",
            "Never, so he that he that\n",
            "Take war be; for when he shall:\n",
            "I would labour my soul,\n",
            "That I drown'd me no pity him,\n",
            "Where that with my soul shall spend my soul,\n",
            "And spend my heart.\n",
            "\n",
            "KING HENRY VI:\n",
            "Be patient, I pity me, and leave?\n",
            "Ah, I am your sorrow,\n",
            "Nor no more!\n",
            "Seeking for my death, my woful than you\n",
            "Of pity! O that Clifford, and the king!\n",
            "PRINCE EDWARD:\n",
            "Methinks the quarrel of so bloody judge\n",
            "Should not, for Lancaster,\n",
            "Was not the quarrel daily doth beget\n",
            "The crown for a king for a chafed bull:\n",
            "Away! for death doth beget! tender son\n",
            "And I will thy winding-sheet;\n",
            "My heart thine image ne'er shall go;\n",
            "My sighing breast shall be thy funeral bell;\n",
            "And so obsequious will thy father be,\n",
            "Even for the loss of thee, having no more,\n",
            "As Priam was for all his valiant sons.\n",
            "I'll bear thee hence; and let them fight that will,\n",
            "For I have murdered where I should not kill.\n",
            "\n",
            "KING HENRY VI:\n",
            "Sad-hearted men, much overgone with care,\n",
            "Here sits a king more woful than you are.\n",
            "\n",
            "PRINCE EDWARD:\n",
            "Fly, father, fly! for all your friends are fled,\n",
            "And Warwick rages like a chafed bull:\n",
            "Away! for death doth hold us in pursuit.\n",
            "\n",
            "QUEEN MARGARET:\n",
            "Mount you, my lord; towards Berwick post amain:\n",
            "Edward and Richard, like a brace of greyhounds\n",
            "Having the fearful flying hare in sight,\n",
            "With fiery eyes sparkling for very wrath,\n",
            "And bloody steel grasp'd in their ireful hands,\n",
            "Are at our backs; and therefore hence amain.\n",
            "\n",
            "EX\n",
            "---------------\n",
            "\n",
            "I could make them that,\n",
            "And cry 'God save the truth of mine arm.\n",
            "\n",
            "MENENIUS:\n",
            "Nay, pray, be gone;\n",
            "But once more hear our neighbours.\n",
            "\n",
            "First Senator:\n",
            "And so did I.\n",
            "\n",
            "Second Senator:\n",
            "You and, by your leave,\n",
            "Stand in Rome all.\n",
            "\n",
            "MENENIUS:\n",
            "From Rome.\n",
            "\n",
            "First Senator:\n",
            "You may not pass, you must return: our general\n",
            "Will no more hear from thence.\n",
            "\n",
            "Second Senator:\n",
            "You'll see your Rome embraced with fire before\n",
            "You'll speak with Coriolanus.\n",
            "\n",
            "MENENIUS:\n",
            "Good my friends,\n",
            "If you have heard your general talk of Rome,\n",
            "And of his friends there, it is lots to blanks,\n",
            "My name hath touch'd your ears it is Menenius.\n",
            "\n",
            "First Senator:\n",
            "Be it so; go back: the virtue of your name\n",
            "Is not here passable.\n",
            "\n",
            "MENENIUS:\n",
            "I tell thee, fellow,\n",
            "The general is my lover: I have been\n",
            "The book of his good acts, whence men have read\n",
            "His name unparallel'd, haply amplified;\n",
            "For I have ever verified my friends,\n",
            "Of whom he's chief, with all the size that verity\n",
            "Would without lapsing suffer: nay, sometimes,\n",
            "Like to a bowl upon a subtle ground,\n",
            "I have tumbled past the throw; and in his praise\n",
            "Have almost stamp'd the leasing: therefore, fellow,\n",
            "I must have leave to pass.\n",
            "\n",
            "First Senator:\n",
            "Faith, sir, if you had told as many lies in his\n",
            "behalf as you have uttered words in your own, you\n",
            "should not pass here; no, though it were as virtuous\n",
            "to lie as to live chastely. Therefore, go back.\n",
            "\n",
            "MENENIUS:\n",
            "Prithee, fellow, remember my name is Menenius,\n",
            "always factionary on the party of your general.\n",
            "\n",
            "Second Senator:\n",
            "Howsoever you have been his liar, as you say you say you\n",
            "have, I am one that, telling true under him, must\n",
            "say, you cannot pass. For you are, go back.\n",
            "\n",
            "MENENIUS:\n",
            "Has he dined, canst thou tell? for I would not\n",
            "speak with him\n",
            "---------------\n",
            "\n",
            "LEONTES:\n",
            "Once more, with her hence.\n",
            "\n",
            "PAULINA:\n",
            "A mankind witch! Hence with her, out o' door:\n",
            "Not so: but yet:\n",
            "There's no less honest\n",
            "As this world goes, out, out of your eye,\n",
            "Should have her lord's mankind witch!\n",
            "\n",
            "LEONTES:\n",
            "Traitors! Hence with her out o' door:\n",
            "A most intelligencing bawd!\n",
            "\n",
            "PAULINA:\n",
            "Not so:\n",
            "I am as ignorant in that as you\n",
            "In so entitling me, and no less honest\n",
            "Than you are mad; which is enough, I'll warrant,\n",
            "As this world goes, to pass for honest.\n",
            "\n",
            "LEONTES:\n",
            "Traitors!\n",
            "Will you not push her out? Give her the bastard.\n",
            "Thou dotard! thou art woman-tired, unroosted\n",
            "By thy dame Partlet here. Take up the bastard;\n",
            "Take't up, I say; give't to thy crone.\n",
            "\n",
            "PAULINA:\n",
            "For ever\n",
            "Unvenerable be thy hands, if thou\n",
            "Takest up the princess by that forced baseness\n",
            "Which he has put upon't!\n",
            "\n",
            "LEONTES:\n",
            "He dreads his wife.\n",
            "\n",
            "PAULINA:\n",
            "So I would you did; then 'twere past all doubt\n",
            "You'ld call your children yours.\n",
            "\n",
            "LEONTES:\n",
            "A nest of traitors!\n",
            "\n",
            "PAULINA:\n",
            "You'ld call your children yours.\n",
            "\n",
            "ANTIGONUS:\n",
            "I am none, by this good light.\n",
            "And I, by this good light.\n",
            "\n",
            "PAULINA:\n",
            "Nor I, nor any\n",
            "But one that's here, and that's himself, for he\n",
            "The sacred honour of himself, his queen's,\n",
            "His hopeful son's, his babe's, betrays to slander,\n",
            "Whose sting is sharper than the sword's;\n",
            "and will not--\n",
            "For, as the case now stands, it is a curse\n",
            "He cannot be compell'd to't--once remove\n",
            "The root of his opinion, which is rotten\n",
            "As ever oak or stone was sound.\n",
            "\n",
            "LEONTES:\n",
            "A callat\n",
            "Of boundless tongue, who late hath beat her husband\n",
            "And now baits me! This brat is none of mine;\n",
            "It is the issue of Polixenes:\n",
            "---------------\n",
            "\n",
            "Not satisfied; let him give him hence, and I'll potch at him hence,\n",
            "Or let him hence, and way\n",
            "Being a man's potch at him hence, nor him.\n",
            "\n",
            "First Soldier:\n",
            "He's the devil's man; for.\n",
            "\n",
            "AUFIDIUS:\n",
            "Bolder, though not so subtle. My valour's poison'd\n",
            "With only suffering stain by him; for him\n",
            "Shall fly out of itself: nor sleep nor sleep nor sanctuary,\n",
            "Being naked, sick, nor fane nor Capitol,\n",
            "The prayers of priests nor times of sacrifice,\n",
            "Embarquements all of fury, shall lift up\n",
            "Their rotten privilege and custom 'gainst\n",
            "My hate to Marcius: where I find him, were it\n",
            "At home, upon my brother's guard, even there,\n",
            "Against the hospitable canon, would I\n",
            "Wash my fierce hand in's heart. Go you to the city;\n",
            "Learn how 'tis held; and what they are that must\n",
            "Be hostages for Rome.\n",
            "\n",
            "First Soldier:\n",
            "Will not you go?\n",
            "\n",
            "AUFIDIUS:\n",
            "I am attended at the cypress grove: I pray you--\n",
            "'Tis south the city mills--bring me word thither\n",
            "How the world goes, that to the pace of it\n",
            "I may spur on my journey.\n",
            "\n",
            "First Soldier:\n",
            "I shall, sir.\n",
            "\n",
            "MENENIUS:\n",
            "The augurer tells me we shall have news to-night.\n",
            "\n",
            "BRUTUS:\n",
            "Good or bad?\n",
            "\n",
            "MENENIUS:\n",
            "Not according to the prayer of the people, for they\n",
            "love not Marcius.\n",
            "\n",
            "MENENIUS:\n",
            "Nature teaches beasts to know their friends.\n",
            "\n",
            "SICINIUS:\n",
            "Pray you, who does the wolf love?\n",
            "\n",
            "MENENIUS:\n",
            "The lamb.\n",
            "\n",
            "MENENIUS:\n",
            "Ay, to devour him; as the hungry plebeians would the\n",
            "noble Marcius.\n",
            "\n",
            "BRUTUS:\n",
            "He's a lamb indeed, that baes like a bear.\n",
            "\n",
            "MENENIUS:\n",
            "He's a bear indeed, that lives like a lamb. You two\n",
            "are old men: tell me one thing that I shall ask you.\n",
            "\n",
            "Both:\n",
            "Well, sir.\n",
            "\n",
            "MENENIUS:\n",
            "In what enormity is Marcius poor in abundance?\n",
            "\n",
            "BRUTUS:\n",
            "He's poor in no one fault, but\n",
            "---------------\n"
          ]
        }
      ]
    }
  ]
}